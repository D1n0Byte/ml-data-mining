{
  "nbformat": 4,
  "nbformat_minor": 0,
  "metadata": {
    "colab": {
      "name": "istanbul_stock_exchange.ipynb",
      "provenance": [],
      "collapsed_sections": [
        "EPtP1HM-v5R4"
      ]
    },
    "kernelspec": {
      "display_name": "Python 3",
      "language": "python",
      "name": "python3"
    },
    "language_info": {
      "codemirror_mode": {
        "name": "ipython",
        "version": 3
      },
      "file_extension": ".py",
      "mimetype": "text/x-python",
      "name": "python",
      "nbconvert_exporter": "python",
      "pygments_lexer": "ipython3",
      "version": "3.7.1"
    }
  },
  "cells": [
    {
      "cell_type": "markdown",
      "metadata": {
        "id": "EPtP1HM-v5R4",
        "colab_type": "text"
      },
      "source": [
        "# Explnation of Standardization\n",
        "---\n",
        "\n",
        "\n",
        "https://kraj3.com.np/blog/2019/06/easy-explanation-of-normalization-standardization-in-machine-learningusing-python/"
      ]
    },
    {
      "cell_type": "code",
      "metadata": {
        "colab_type": "code",
        "id": "QPiLSR5PsR0k",
        "colab": {}
      },
      "source": [
        "# !pip freeze"
      ],
      "execution_count": 0,
      "outputs": []
    },
    {
      "cell_type": "markdown",
      "metadata": {
        "colab_type": "text",
        "id": "pJqUogdlv0gp"
      },
      "source": [
        "# Import libraries and Set up Dataframe\n"
      ]
    },
    {
      "cell_type": "code",
      "metadata": {
        "colab_type": "code",
        "id": "fo6xki59iiRm",
        "colab": {}
      },
      "source": [
        "#Basic imports\n",
        "import numpy as np\n",
        "import pandas as pd\n",
        "import seaborn as sns\n",
        "import matplotlib.pyplot as plt\n",
        "import random as rand\n",
        "\n",
        "#sklearn imports --ADD on a need to use basis\n",
        "from sklearn import preprocessing \n",
        "from sklearn.impute import SimpleImputer, KNNImputer\n",
        "from sklearn.preprocessing import StandardScaler,MinMaxScaler,minmax_scale, KBinsDiscretizer\n",
        "from sklearn.metrics import mean_squared_error\n"
      ],
      "execution_count": 0,
      "outputs": []
    },
    {
      "cell_type": "code",
      "metadata": {
        "colab_type": "code",
        "id": "xEkwXXhJfUMa",
        "outputId": "9e692188-0031-4dad-e855-69963613a989",
        "colab": {
          "base_uri": "https://localhost:8080/",
          "height": 459
        }
      },
      "source": [
        "url = 'https://raw.githubusercontent.com/julio-aguilar/ml-data-mining/master/A1_datasets/istanbul_stock_exchange.csv'\n",
        "df = pd.read_csv(url)\n",
        "# Dataset is now stored in a Pandas Dataframe\n",
        "df.info()\n",
        "df.head(5)"
      ],
      "execution_count": 0,
      "outputs": [
        {
          "output_type": "stream",
          "text": [
            "<class 'pandas.core.frame.DataFrame'>\n",
            "RangeIndex: 536 entries, 0 to 535\n",
            "Data columns (total 10 columns):\n",
            "date             536 non-null object\n",
            "TL BASED ISE     536 non-null float64\n",
            "USD BASED ISE    536 non-null float64\n",
            "SP               536 non-null float64\n",
            "DAX              536 non-null float64\n",
            "FTSE             536 non-null float64\n",
            "NIKKEI           536 non-null float64\n",
            "BOVESPA          536 non-null float64\n",
            "EU               536 non-null float64\n",
            "EM               536 non-null float64\n",
            "dtypes: float64(9), object(1)\n",
            "memory usage: 42.0+ KB\n"
          ],
          "name": "stdout"
        },
        {
          "output_type": "execute_result",
          "data": {
            "text/html": [
              "<div>\n",
              "<style scoped>\n",
              "    .dataframe tbody tr th:only-of-type {\n",
              "        vertical-align: middle;\n",
              "    }\n",
              "\n",
              "    .dataframe tbody tr th {\n",
              "        vertical-align: top;\n",
              "    }\n",
              "\n",
              "    .dataframe thead th {\n",
              "        text-align: right;\n",
              "    }\n",
              "</style>\n",
              "<table border=\"1\" class=\"dataframe\">\n",
              "  <thead>\n",
              "    <tr style=\"text-align: right;\">\n",
              "      <th></th>\n",
              "      <th>date</th>\n",
              "      <th>TL BASED ISE</th>\n",
              "      <th>USD BASED ISE</th>\n",
              "      <th>SP</th>\n",
              "      <th>DAX</th>\n",
              "      <th>FTSE</th>\n",
              "      <th>NIKKEI</th>\n",
              "      <th>BOVESPA</th>\n",
              "      <th>EU</th>\n",
              "      <th>EM</th>\n",
              "    </tr>\n",
              "  </thead>\n",
              "  <tbody>\n",
              "    <tr>\n",
              "      <th>0</th>\n",
              "      <td>5-Jan-09</td>\n",
              "      <td>0.035754</td>\n",
              "      <td>0.038376</td>\n",
              "      <td>-0.004679</td>\n",
              "      <td>0.002193</td>\n",
              "      <td>0.003894</td>\n",
              "      <td>0.000000</td>\n",
              "      <td>0.031190</td>\n",
              "      <td>0.012698</td>\n",
              "      <td>0.028524</td>\n",
              "    </tr>\n",
              "    <tr>\n",
              "      <th>1</th>\n",
              "      <td>6-Jan-09</td>\n",
              "      <td>0.025426</td>\n",
              "      <td>0.031813</td>\n",
              "      <td>0.007787</td>\n",
              "      <td>0.008455</td>\n",
              "      <td>0.012866</td>\n",
              "      <td>0.004162</td>\n",
              "      <td>0.018920</td>\n",
              "      <td>0.011341</td>\n",
              "      <td>0.008773</td>\n",
              "    </tr>\n",
              "    <tr>\n",
              "      <th>2</th>\n",
              "      <td>7-Jan-09</td>\n",
              "      <td>-0.028862</td>\n",
              "      <td>-0.026353</td>\n",
              "      <td>-0.030469</td>\n",
              "      <td>-0.017833</td>\n",
              "      <td>-0.028735</td>\n",
              "      <td>0.017293</td>\n",
              "      <td>-0.035899</td>\n",
              "      <td>-0.017073</td>\n",
              "      <td>-0.020015</td>\n",
              "    </tr>\n",
              "    <tr>\n",
              "      <th>3</th>\n",
              "      <td>8-Jan-09</td>\n",
              "      <td>-0.062208</td>\n",
              "      <td>-0.084716</td>\n",
              "      <td>0.003391</td>\n",
              "      <td>-0.011726</td>\n",
              "      <td>-0.000466</td>\n",
              "      <td>-0.040061</td>\n",
              "      <td>0.028283</td>\n",
              "      <td>-0.005561</td>\n",
              "      <td>-0.019424</td>\n",
              "    </tr>\n",
              "    <tr>\n",
              "      <th>4</th>\n",
              "      <td>9-Jan-09</td>\n",
              "      <td>0.009860</td>\n",
              "      <td>0.009658</td>\n",
              "      <td>-0.021533</td>\n",
              "      <td>-0.019873</td>\n",
              "      <td>-0.012710</td>\n",
              "      <td>-0.004474</td>\n",
              "      <td>-0.009764</td>\n",
              "      <td>-0.010989</td>\n",
              "      <td>-0.007802</td>\n",
              "    </tr>\n",
              "  </tbody>\n",
              "</table>\n",
              "</div>"
            ],
            "text/plain": [
              "       date  TL BASED ISE  USD BASED ISE  ...   BOVESPA        EU        EM\n",
              "0  5-Jan-09      0.035754       0.038376  ...  0.031190  0.012698  0.028524\n",
              "1  6-Jan-09      0.025426       0.031813  ...  0.018920  0.011341  0.008773\n",
              "2  7-Jan-09     -0.028862      -0.026353  ... -0.035899 -0.017073 -0.020015\n",
              "3  8-Jan-09     -0.062208      -0.084716  ...  0.028283 -0.005561 -0.019424\n",
              "4  9-Jan-09      0.009860       0.009658  ... -0.009764 -0.010989 -0.007802\n",
              "\n",
              "[5 rows x 10 columns]"
            ]
          },
          "metadata": {
            "tags": []
          },
          "execution_count": 61
        }
      ]
    },
    {
      "cell_type": "markdown",
      "metadata": {
        "colab_type": "text",
        "id": "wV3Yg6d6mL5O"
      },
      "source": [
        "A deep copy  will be created to make sure that the original df is still available to do any more manipulation on it."
      ]
    },
    {
      "cell_type": "code",
      "metadata": {
        "colab_type": "code",
        "id": "DuEux6bpiNiE",
        "colab": {}
      },
      "source": [
        "stock_df = df.drop(['date'],axis=1).copy(deep=True)"
      ],
      "execution_count": 0,
      "outputs": []
    },
    {
      "cell_type": "markdown",
      "metadata": {
        "id": "oWBjl7YO8xF1",
        "colab_type": "text"
      },
      "source": [
        "# Normalization"
      ]
    },
    {
      "cell_type": "markdown",
      "metadata": {
        "id": "-V3ga4tOg0EO",
        "colab_type": "text"
      },
      "source": [
        "#### Z-score Normalization"
      ]
    },
    {
      "cell_type": "code",
      "metadata": {
        "id": "8LMdAXt8g0EX",
        "colab_type": "code",
        "outputId": "f942323d-93ac-4ba4-b797-ee48c4a4a3ad",
        "colab": {
          "base_uri": "https://localhost:8080/",
          "height": 204
        }
      },
      "source": [
        "tempZ=StandardScaler().fit_transform(stock_df)\n",
        "z_norm_df=pd.DataFrame(tempZ,columns=stock_df.columns)\n",
        "z_norm_df.head(5)"
      ],
      "execution_count": 0,
      "outputs": [
        {
          "output_type": "execute_result",
          "data": {
            "text/html": [
              "<div>\n",
              "<style scoped>\n",
              "    .dataframe tbody tr th:only-of-type {\n",
              "        vertical-align: middle;\n",
              "    }\n",
              "\n",
              "    .dataframe tbody tr th {\n",
              "        vertical-align: top;\n",
              "    }\n",
              "\n",
              "    .dataframe thead th {\n",
              "        text-align: right;\n",
              "    }\n",
              "</style>\n",
              "<table border=\"1\" class=\"dataframe\">\n",
              "  <thead>\n",
              "    <tr style=\"text-align: right;\">\n",
              "      <th></th>\n",
              "      <th>TL BASED ISE</th>\n",
              "      <th>USD BASED ISE</th>\n",
              "      <th>SP</th>\n",
              "      <th>DAX</th>\n",
              "      <th>FTSE</th>\n",
              "      <th>NIKKEI</th>\n",
              "      <th>BOVESPA</th>\n",
              "      <th>EU</th>\n",
              "      <th>EM</th>\n",
              "    </tr>\n",
              "  </thead>\n",
              "  <tbody>\n",
              "    <tr>\n",
              "      <th>0</th>\n",
              "      <td>2.100107</td>\n",
              "      <td>1.745028</td>\n",
              "      <td>-0.378032</td>\n",
              "      <td>0.101256</td>\n",
              "      <td>0.267647</td>\n",
              "      <td>-0.020741</td>\n",
              "      <td>1.922674</td>\n",
              "      <td>0.942176</td>\n",
              "      <td>2.629645</td>\n",
              "    </tr>\n",
              "    <tr>\n",
              "      <th>1</th>\n",
              "      <td>1.464512</td>\n",
              "      <td>1.433997</td>\n",
              "      <td>0.507353</td>\n",
              "      <td>0.531818</td>\n",
              "      <td>0.977179</td>\n",
              "      <td>0.259819</td>\n",
              "      <td>1.142884</td>\n",
              "      <td>0.837583</td>\n",
              "      <td>0.746969</td>\n",
              "    </tr>\n",
              "    <tr>\n",
              "      <th>2</th>\n",
              "      <td>-1.876450</td>\n",
              "      <td>-1.322382</td>\n",
              "      <td>-2.209720</td>\n",
              "      <td>-1.275742</td>\n",
              "      <td>-2.312967</td>\n",
              "      <td>1.144844</td>\n",
              "      <td>-2.340765</td>\n",
              "      <td>-1.351789</td>\n",
              "      <td>-1.997012</td>\n",
              "    </tr>\n",
              "    <tr>\n",
              "      <th>3</th>\n",
              "      <td>-3.928648</td>\n",
              "      <td>-4.088108</td>\n",
              "      <td>0.195178</td>\n",
              "      <td>-0.855846</td>\n",
              "      <td>-0.077213</td>\n",
              "      <td>-2.720969</td>\n",
              "      <td>1.737932</td>\n",
              "      <td>-0.464755</td>\n",
              "      <td>-1.940619</td>\n",
              "    </tr>\n",
              "    <tr>\n",
              "      <th>4</th>\n",
              "      <td>0.506553</td>\n",
              "      <td>0.384125</td>\n",
              "      <td>-1.575058</td>\n",
              "      <td>-1.415989</td>\n",
              "      <td>-1.045565</td>\n",
              "      <td>-0.322265</td>\n",
              "      <td>-0.679926</td>\n",
              "      <td>-0.882979</td>\n",
              "      <td>-0.832891</td>\n",
              "    </tr>\n",
              "  </tbody>\n",
              "</table>\n",
              "</div>"
            ],
            "text/plain": [
              "   TL BASED ISE  USD BASED ISE        SP  ...   BOVESPA        EU        EM\n",
              "0      2.100107       1.745028 -0.378032  ...  1.922674  0.942176  2.629645\n",
              "1      1.464512       1.433997  0.507353  ...  1.142884  0.837583  0.746969\n",
              "2     -1.876450      -1.322382 -2.209720  ... -2.340765 -1.351789 -1.997012\n",
              "3     -3.928648      -4.088108  0.195178  ...  1.737932 -0.464755 -1.940619\n",
              "4      0.506553       0.384125 -1.575058  ... -0.679926 -0.882979 -0.832891\n",
              "\n",
              "[5 rows x 9 columns]"
            ]
          },
          "metadata": {
            "tags": []
          },
          "execution_count": 63
        }
      ]
    },
    {
      "cell_type": "markdown",
      "metadata": {
        "id": "pccy7sG_g0Ep",
        "colab_type": "text"
      },
      "source": [
        "#### Min-Max Normalization"
      ]
    },
    {
      "cell_type": "code",
      "metadata": {
        "id": "Adk8xfK_smaN",
        "colab_type": "code",
        "outputId": "d58d7edb-ece6-4f8a-9f8e-9137e6ba3063",
        "colab": {
          "base_uri": "https://localhost:8080/",
          "height": 204
        }
      },
      "source": [
        "temp_min_max=MinMaxScaler().fit_transform(stock_df)\n",
        "min_max_df = pd.DataFrame(temp_min_max,columns=stock_df.columns)\n",
        "min_max_df.head(5)"
      ],
      "execution_count": 0,
      "outputs": [
        {
          "output_type": "execute_result",
          "data": {
            "text/html": [
              "<div>\n",
              "<style scoped>\n",
              "    .dataframe tbody tr th:only-of-type {\n",
              "        vertical-align: middle;\n",
              "    }\n",
              "\n",
              "    .dataframe tbody tr th {\n",
              "        vertical-align: top;\n",
              "    }\n",
              "\n",
              "    .dataframe thead th {\n",
              "        text-align: right;\n",
              "    }\n",
              "</style>\n",
              "<table border=\"1\" class=\"dataframe\">\n",
              "  <thead>\n",
              "    <tr style=\"text-align: right;\">\n",
              "      <th></th>\n",
              "      <th>TL BASED ISE</th>\n",
              "      <th>USD BASED ISE</th>\n",
              "      <th>SP</th>\n",
              "      <th>DAX</th>\n",
              "      <th>FTSE</th>\n",
              "      <th>NIKKEI</th>\n",
              "      <th>BOVESPA</th>\n",
              "      <th>EU</th>\n",
              "      <th>EM</th>\n",
              "    </tr>\n",
              "  </thead>\n",
              "  <tbody>\n",
              "    <tr>\n",
              "      <th>0</th>\n",
              "      <td>0.746889</td>\n",
              "      <td>0.664154</td>\n",
              "      <td>0.404333</td>\n",
              "      <td>0.489969</td>\n",
              "      <td>0.558409</td>\n",
              "      <td>0.451728</td>\n",
              "      <td>0.722875</td>\n",
              "      <td>0.530944</td>\n",
              "      <td>0.776771</td>\n",
              "    </tr>\n",
              "    <tr>\n",
              "      <th>1</th>\n",
              "      <td>0.668147</td>\n",
              "      <td>0.628741</td>\n",
              "      <td>0.505990</td>\n",
              "      <td>0.546240</td>\n",
              "      <td>0.643736</td>\n",
              "      <td>0.489000</td>\n",
              "      <td>0.618569</td>\n",
              "      <td>0.519229</td>\n",
              "      <td>0.548080</td>\n",
              "    </tr>\n",
              "    <tr>\n",
              "      <th>2</th>\n",
              "      <td>0.254242</td>\n",
              "      <td>0.314902</td>\n",
              "      <td>0.194024</td>\n",
              "      <td>0.310007</td>\n",
              "      <td>0.248066</td>\n",
              "      <td>0.606576</td>\n",
              "      <td>0.152590</td>\n",
              "      <td>0.273987</td>\n",
              "      <td>0.214765</td>\n",
              "    </tr>\n",
              "    <tr>\n",
              "      <th>3</th>\n",
              "      <td>0.000000</td>\n",
              "      <td>0.000000</td>\n",
              "      <td>0.470147</td>\n",
              "      <td>0.364884</td>\n",
              "      <td>0.516936</td>\n",
              "      <td>0.093003</td>\n",
              "      <td>0.698163</td>\n",
              "      <td>0.373348</td>\n",
              "      <td>0.221615</td>\n",
              "    </tr>\n",
              "    <tr>\n",
              "      <th>4</th>\n",
              "      <td>0.549467</td>\n",
              "      <td>0.509203</td>\n",
              "      <td>0.266894</td>\n",
              "      <td>0.291678</td>\n",
              "      <td>0.400483</td>\n",
              "      <td>0.411670</td>\n",
              "      <td>0.374747</td>\n",
              "      <td>0.326501</td>\n",
              "      <td>0.356172</td>\n",
              "    </tr>\n",
              "  </tbody>\n",
              "</table>\n",
              "</div>"
            ],
            "text/plain": [
              "   TL BASED ISE  USD BASED ISE        SP  ...   BOVESPA        EU        EM\n",
              "0      0.746889       0.664154  0.404333  ...  0.722875  0.530944  0.776771\n",
              "1      0.668147       0.628741  0.505990  ...  0.618569  0.519229  0.548080\n",
              "2      0.254242       0.314902  0.194024  ...  0.152590  0.273987  0.214765\n",
              "3      0.000000       0.000000  0.470147  ...  0.698163  0.373348  0.221615\n",
              "4      0.549467       0.509203  0.266894  ...  0.374747  0.326501  0.356172\n",
              "\n",
              "[5 rows x 9 columns]"
            ]
          },
          "metadata": {
            "tags": []
          },
          "execution_count": 64
        }
      ]
    },
    {
      "cell_type": "markdown",
      "metadata": {
        "id": "HWeuVJvrg0Eu",
        "colab_type": "text"
      },
      "source": [
        "#### Softmax Normalization"
      ]
    },
    {
      "cell_type": "code",
      "metadata": {
        "colab_type": "code",
        "id": "dmQ1PVUekVit",
        "outputId": "ad52aee8-c2df-40ab-883e-8a7dae07d9a0",
        "colab": {
          "base_uri": "https://localhost:8080/",
          "height": 204
        }
      },
      "source": [
        "min_max_df.apply(lambda x: 1/(1+ np.exp(-x)), axis=0).head(5)"
      ],
      "execution_count": 0,
      "outputs": [
        {
          "output_type": "execute_result",
          "data": {
            "text/html": [
              "<div>\n",
              "<style scoped>\n",
              "    .dataframe tbody tr th:only-of-type {\n",
              "        vertical-align: middle;\n",
              "    }\n",
              "\n",
              "    .dataframe tbody tr th {\n",
              "        vertical-align: top;\n",
              "    }\n",
              "\n",
              "    .dataframe thead th {\n",
              "        text-align: right;\n",
              "    }\n",
              "</style>\n",
              "<table border=\"1\" class=\"dataframe\">\n",
              "  <thead>\n",
              "    <tr style=\"text-align: right;\">\n",
              "      <th></th>\n",
              "      <th>TL BASED ISE</th>\n",
              "      <th>USD BASED ISE</th>\n",
              "      <th>SP</th>\n",
              "      <th>DAX</th>\n",
              "      <th>FTSE</th>\n",
              "      <th>NIKKEI</th>\n",
              "      <th>BOVESPA</th>\n",
              "      <th>EU</th>\n",
              "      <th>EM</th>\n",
              "    </tr>\n",
              "  </thead>\n",
              "  <tbody>\n",
              "    <tr>\n",
              "      <th>0</th>\n",
              "      <td>0.678500</td>\n",
              "      <td>0.660193</td>\n",
              "      <td>0.599728</td>\n",
              "      <td>0.620099</td>\n",
              "      <td>0.636084</td>\n",
              "      <td>0.611050</td>\n",
              "      <td>0.673240</td>\n",
              "      <td>0.629703</td>\n",
              "      <td>0.684984</td>\n",
              "    </tr>\n",
              "    <tr>\n",
              "      <th>1</th>\n",
              "      <td>0.661088</td>\n",
              "      <td>0.652204</td>\n",
              "      <td>0.623866</td>\n",
              "      <td>0.633263</td>\n",
              "      <td>0.655598</td>\n",
              "      <td>0.619871</td>\n",
              "      <td>0.649893</td>\n",
              "      <td>0.626967</td>\n",
              "      <td>0.633690</td>\n",
              "    </tr>\n",
              "    <tr>\n",
              "      <th>2</th>\n",
              "      <td>0.563220</td>\n",
              "      <td>0.578081</td>\n",
              "      <td>0.548354</td>\n",
              "      <td>0.576887</td>\n",
              "      <td>0.561701</td>\n",
              "      <td>0.647159</td>\n",
              "      <td>0.538074</td>\n",
              "      <td>0.568072</td>\n",
              "      <td>0.553486</td>\n",
              "    </tr>\n",
              "    <tr>\n",
              "      <th>3</th>\n",
              "      <td>0.500000</td>\n",
              "      <td>0.500000</td>\n",
              "      <td>0.615419</td>\n",
              "      <td>0.590222</td>\n",
              "      <td>0.626431</td>\n",
              "      <td>0.523234</td>\n",
              "      <td>0.667780</td>\n",
              "      <td>0.592268</td>\n",
              "      <td>0.555178</td>\n",
              "    </tr>\n",
              "    <tr>\n",
              "      <th>4</th>\n",
              "      <td>0.634012</td>\n",
              "      <td>0.624620</td>\n",
              "      <td>0.566330</td>\n",
              "      <td>0.572407</td>\n",
              "      <td>0.598804</td>\n",
              "      <td>0.601488</td>\n",
              "      <td>0.592605</td>\n",
              "      <td>0.580908</td>\n",
              "      <td>0.588114</td>\n",
              "    </tr>\n",
              "  </tbody>\n",
              "</table>\n",
              "</div>"
            ],
            "text/plain": [
              "   TL BASED ISE  USD BASED ISE        SP  ...   BOVESPA        EU        EM\n",
              "0      0.678500       0.660193  0.599728  ...  0.673240  0.629703  0.684984\n",
              "1      0.661088       0.652204  0.623866  ...  0.649893  0.626967  0.633690\n",
              "2      0.563220       0.578081  0.548354  ...  0.538074  0.568072  0.553486\n",
              "3      0.500000       0.500000  0.615419  ...  0.667780  0.592268  0.555178\n",
              "4      0.634012       0.624620  0.566330  ...  0.592605  0.580908  0.588114\n",
              "\n",
              "[5 rows x 9 columns]"
            ]
          },
          "metadata": {
            "tags": []
          },
          "execution_count": 65
        }
      ]
    },
    {
      "cell_type": "markdown",
      "metadata": {
        "id": "DnPBQ0SsvETB",
        "colab_type": "text"
      },
      "source": [
        "# Discrete the Columns"
      ]
    },
    {
      "cell_type": "code",
      "metadata": {
        "id": "mdEcSqV_u_q2",
        "colab_type": "code",
        "outputId": "6504591b-eebe-4ba2-a589-73eea51473be",
        "colab": {
          "base_uri": "https://localhost:8080/",
          "height": 204
        }
      },
      "source": [
        "continuous_cols = min_max_df.columns.values\n",
        "discrete_df = min_max_df.copy(deep=True)\n",
        "# for col in continuous_cols:\n",
        "#   discrete_df[col] = (pd.qcut(stock_df[col],10))\n",
        "\n",
        "# discrete_df\n",
        "discreter = KBinsDiscretizer(n_bins=10,encode='ordinal',strategy='uniform')\n",
        "discrete_df = pd.DataFrame(discreter.fit_transform(discrete_df),columns=continuous_cols)\n",
        "discrete_df.head(5)"
      ],
      "execution_count": 0,
      "outputs": [
        {
          "output_type": "execute_result",
          "data": {
            "text/html": [
              "<div>\n",
              "<style scoped>\n",
              "    .dataframe tbody tr th:only-of-type {\n",
              "        vertical-align: middle;\n",
              "    }\n",
              "\n",
              "    .dataframe tbody tr th {\n",
              "        vertical-align: top;\n",
              "    }\n",
              "\n",
              "    .dataframe thead th {\n",
              "        text-align: right;\n",
              "    }\n",
              "</style>\n",
              "<table border=\"1\" class=\"dataframe\">\n",
              "  <thead>\n",
              "    <tr style=\"text-align: right;\">\n",
              "      <th></th>\n",
              "      <th>TL BASED ISE</th>\n",
              "      <th>USD BASED ISE</th>\n",
              "      <th>SP</th>\n",
              "      <th>DAX</th>\n",
              "      <th>FTSE</th>\n",
              "      <th>NIKKEI</th>\n",
              "      <th>BOVESPA</th>\n",
              "      <th>EU</th>\n",
              "      <th>EM</th>\n",
              "    </tr>\n",
              "  </thead>\n",
              "  <tbody>\n",
              "    <tr>\n",
              "      <th>0</th>\n",
              "      <td>7.0</td>\n",
              "      <td>6.0</td>\n",
              "      <td>4.0</td>\n",
              "      <td>4.0</td>\n",
              "      <td>5.0</td>\n",
              "      <td>4.0</td>\n",
              "      <td>7.0</td>\n",
              "      <td>5.0</td>\n",
              "      <td>7.0</td>\n",
              "    </tr>\n",
              "    <tr>\n",
              "      <th>1</th>\n",
              "      <td>6.0</td>\n",
              "      <td>6.0</td>\n",
              "      <td>5.0</td>\n",
              "      <td>5.0</td>\n",
              "      <td>6.0</td>\n",
              "      <td>4.0</td>\n",
              "      <td>6.0</td>\n",
              "      <td>5.0</td>\n",
              "      <td>5.0</td>\n",
              "    </tr>\n",
              "    <tr>\n",
              "      <th>2</th>\n",
              "      <td>2.0</td>\n",
              "      <td>3.0</td>\n",
              "      <td>1.0</td>\n",
              "      <td>3.0</td>\n",
              "      <td>2.0</td>\n",
              "      <td>6.0</td>\n",
              "      <td>1.0</td>\n",
              "      <td>2.0</td>\n",
              "      <td>2.0</td>\n",
              "    </tr>\n",
              "    <tr>\n",
              "      <th>3</th>\n",
              "      <td>0.0</td>\n",
              "      <td>0.0</td>\n",
              "      <td>4.0</td>\n",
              "      <td>3.0</td>\n",
              "      <td>5.0</td>\n",
              "      <td>0.0</td>\n",
              "      <td>6.0</td>\n",
              "      <td>3.0</td>\n",
              "      <td>2.0</td>\n",
              "    </tr>\n",
              "    <tr>\n",
              "      <th>4</th>\n",
              "      <td>5.0</td>\n",
              "      <td>5.0</td>\n",
              "      <td>2.0</td>\n",
              "      <td>2.0</td>\n",
              "      <td>4.0</td>\n",
              "      <td>4.0</td>\n",
              "      <td>3.0</td>\n",
              "      <td>3.0</td>\n",
              "      <td>3.0</td>\n",
              "    </tr>\n",
              "  </tbody>\n",
              "</table>\n",
              "</div>"
            ],
            "text/plain": [
              "   TL BASED ISE  USD BASED ISE   SP  DAX  FTSE  NIKKEI  BOVESPA   EU   EM\n",
              "0           7.0            6.0  4.0  4.0   5.0     4.0      7.0  5.0  7.0\n",
              "1           6.0            6.0  5.0  5.0   6.0     4.0      6.0  5.0  5.0\n",
              "2           2.0            3.0  1.0  3.0   2.0     6.0      1.0  2.0  2.0\n",
              "3           0.0            0.0  4.0  3.0   5.0     0.0      6.0  3.0  2.0\n",
              "4           5.0            5.0  2.0  2.0   4.0     4.0      3.0  3.0  3.0"
            ]
          },
          "metadata": {
            "tags": []
          },
          "execution_count": 66
        }
      ]
    },
    {
      "cell_type": "markdown",
      "metadata": {
        "id": "aRIEHZwW7_WI",
        "colab_type": "text"
      },
      "source": [
        "# Boxplot"
      ]
    },
    {
      "cell_type": "markdown",
      "metadata": {
        "id": "k1MIB-bB8R8H",
        "colab_type": "text"
      },
      "source": [
        "#### Before Discretization"
      ]
    },
    {
      "cell_type": "code",
      "metadata": {
        "id": "9G9Ddi1s8Kz2",
        "colab_type": "code",
        "outputId": "647aa21d-16b7-4be6-f5ad-5a5a51cfe667",
        "colab": {
          "base_uri": "https://localhost:8080/",
          "height": 282
        }
      },
      "source": [
        "min_max_df.boxplot()"
      ],
      "execution_count": 0,
      "outputs": [
        {
          "output_type": "execute_result",
          "data": {
            "text/plain": [
              "<matplotlib.axes._subplots.AxesSubplot at 0x7fa762703ac8>"
            ]
          },
          "metadata": {
            "tags": []
          },
          "execution_count": 67
        },
        {
          "output_type": "display_data",
          "data": {
            "image/png": "[encoded data removed]",
            "text/plain": [
              "<Figure size 432x288 with 1 Axes>"
            ]
          },
          "metadata": {
            "tags": []
          }
        }
      ]
    },
    {
      "cell_type": "markdown",
      "metadata": {
        "id": "0aFs_EnY8Uv3",
        "colab_type": "text"
      },
      "source": [
        "#### After Discretization"
      ]
    },
    {
      "cell_type": "code",
      "metadata": {
        "id": "DnzzcR0V8WZZ",
        "colab_type": "code",
        "outputId": "846736dc-0c0f-4818-c220-faec39aa0098",
        "colab": {
          "base_uri": "https://localhost:8080/",
          "height": 282
        }
      },
      "source": [
        "discrete_df.boxplot()"
      ],
      "execution_count": 0,
      "outputs": [
        {
          "output_type": "execute_result",
          "data": {
            "text/plain": [
              "<matplotlib.axes._subplots.AxesSubplot at 0x7fa7625f03c8>"
            ]
          },
          "metadata": {
            "tags": []
          },
          "execution_count": 68
        },
        {
          "output_type": "display_data",
          "data": {
            "image/png": "[encoded data removed]",
            "text/plain": [
              "<Figure size 432x288 with 1 Axes>"
            ]
          },
          "metadata": {
            "tags": []
          }
        }
      ]
    },
    {
      "cell_type": "markdown",
      "metadata": {
        "id": "JqD9an11-H4b",
        "colab_type": "text"
      },
      "source": [
        "# Impute Missing Values\n",
        "\n",
        "---\n",
        "In this section, the data will be manipulated to then impute back the missing values into it.  \n",
        "The data will be manipulated: \n",
        "- Synthetic 5% values lost  \n",
        "- Synthetic 10% values lost  \n",
        "- Synthetic 15% values lost  \n"
      ]
    },
    {
      "cell_type": "markdown",
      "metadata": {
        "id": "mf9CjMTYkJcl",
        "colab_type": "text"
      },
      "source": [
        "#### At 5% Missing Values\n"
      ]
    },
    {
      "cell_type": "code",
      "metadata": {
        "id": "OMqOyF7I9vtW",
        "colab_type": "code",
        "outputId": "cda0d473-7faf-47a2-b971-7c09313e7077",
        "colab": {
          "base_uri": "https://localhost:8080/",
          "height": 204
        }
      },
      "source": [
        "#simulando un 5% de celdas missing\n",
        "df5 = stock_df.copy(deep=True)\n",
        "df5 = df5.stack().sample(frac=0.95).unstack().reindex(index=df5.index, columns=df5.columns)\n",
        "df5.head(5)"
      ],
      "execution_count": 0,
      "outputs": [
        {
          "output_type": "execute_result",
          "data": {
            "text/html": [
              "<div>\n",
              "<style scoped>\n",
              "    .dataframe tbody tr th:only-of-type {\n",
              "        vertical-align: middle;\n",
              "    }\n",
              "\n",
              "    .dataframe tbody tr th {\n",
              "        vertical-align: top;\n",
              "    }\n",
              "\n",
              "    .dataframe thead th {\n",
              "        text-align: right;\n",
              "    }\n",
              "</style>\n",
              "<table border=\"1\" class=\"dataframe\">\n",
              "  <thead>\n",
              "    <tr style=\"text-align: right;\">\n",
              "      <th></th>\n",
              "      <th>TL BASED ISE</th>\n",
              "      <th>USD BASED ISE</th>\n",
              "      <th>SP</th>\n",
              "      <th>DAX</th>\n",
              "      <th>FTSE</th>\n",
              "      <th>NIKKEI</th>\n",
              "      <th>BOVESPA</th>\n",
              "      <th>EU</th>\n",
              "      <th>EM</th>\n",
              "    </tr>\n",
              "  </thead>\n",
              "  <tbody>\n",
              "    <tr>\n",
              "      <th>0</th>\n",
              "      <td>0.035754</td>\n",
              "      <td>0.038376</td>\n",
              "      <td>-0.004679</td>\n",
              "      <td>0.002193</td>\n",
              "      <td>0.003894</td>\n",
              "      <td>0.000000</td>\n",
              "      <td>0.031190</td>\n",
              "      <td>0.012698</td>\n",
              "      <td>0.028524</td>\n",
              "    </tr>\n",
              "    <tr>\n",
              "      <th>1</th>\n",
              "      <td>0.025426</td>\n",
              "      <td>0.031813</td>\n",
              "      <td>0.007787</td>\n",
              "      <td>0.008455</td>\n",
              "      <td>0.012866</td>\n",
              "      <td>0.004162</td>\n",
              "      <td>0.018920</td>\n",
              "      <td>0.011341</td>\n",
              "      <td>0.008773</td>\n",
              "    </tr>\n",
              "    <tr>\n",
              "      <th>2</th>\n",
              "      <td>-0.028862</td>\n",
              "      <td>-0.026353</td>\n",
              "      <td>-0.030469</td>\n",
              "      <td>-0.017833</td>\n",
              "      <td>-0.028735</td>\n",
              "      <td>0.017293</td>\n",
              "      <td>-0.035899</td>\n",
              "      <td>-0.017073</td>\n",
              "      <td>-0.020015</td>\n",
              "    </tr>\n",
              "    <tr>\n",
              "      <th>3</th>\n",
              "      <td>-0.062208</td>\n",
              "      <td>-0.084716</td>\n",
              "      <td>0.003391</td>\n",
              "      <td>-0.011726</td>\n",
              "      <td>-0.000466</td>\n",
              "      <td>-0.040061</td>\n",
              "      <td>0.028283</td>\n",
              "      <td>-0.005561</td>\n",
              "      <td>-0.019424</td>\n",
              "    </tr>\n",
              "    <tr>\n",
              "      <th>4</th>\n",
              "      <td>0.009860</td>\n",
              "      <td>0.009658</td>\n",
              "      <td>-0.021533</td>\n",
              "      <td>-0.019873</td>\n",
              "      <td>-0.012710</td>\n",
              "      <td>-0.004474</td>\n",
              "      <td>-0.009764</td>\n",
              "      <td>NaN</td>\n",
              "      <td>-0.007802</td>\n",
              "    </tr>\n",
              "  </tbody>\n",
              "</table>\n",
              "</div>"
            ],
            "text/plain": [
              "   TL BASED ISE  USD BASED ISE        SP  ...   BOVESPA        EU        EM\n",
              "0      0.035754       0.038376 -0.004679  ...  0.031190  0.012698  0.028524\n",
              "1      0.025426       0.031813  0.007787  ...  0.018920  0.011341  0.008773\n",
              "2     -0.028862      -0.026353 -0.030469  ... -0.035899 -0.017073 -0.020015\n",
              "3     -0.062208      -0.084716  0.003391  ...  0.028283 -0.005561 -0.019424\n",
              "4      0.009860       0.009658 -0.021533  ... -0.009764       NaN -0.007802\n",
              "\n",
              "[5 rows x 9 columns]"
            ]
          },
          "metadata": {
            "tags": []
          },
          "execution_count": 69
        }
      ]
    },
    {
      "cell_type": "markdown",
      "metadata": {
        "id": "pEG67ng9Qymm",
        "colab_type": "text"
      },
      "source": [
        "#####Part 2: Imputing Feature Values"
      ]
    },
    {
      "cell_type": "markdown",
      "metadata": {
        "id": "4z3aPjLiFy0u",
        "colab_type": "text"
      },
      "source": [
        "Imputing with Mean"
      ]
    },
    {
      "cell_type": "code",
      "metadata": {
        "id": "Puv_2a-GPiZw",
        "colab_type": "code",
        "outputId": "e29f36f7-9793-4878-b4ca-4ff495550764",
        "colab": {
          "base_uri": "https://localhost:8080/",
          "height": 204
        }
      },
      "source": [
        "imp = SimpleImputer(missing_values=np.nan, strategy='mean')\n",
        "imp.fit(df5)\n",
        "df_filled_mean5 = imp.transform(df5)\n",
        "df_filled_mean5 = pd.DataFrame(df_filled_mean5,columns=df5.columns.values)\n",
        "df_filled_mean5.head(5)"
      ],
      "execution_count": 0,
      "outputs": [
        {
          "output_type": "execute_result",
          "data": {
            "text/html": [
              "<div>\n",
              "<style scoped>\n",
              "    .dataframe tbody tr th:only-of-type {\n",
              "        vertical-align: middle;\n",
              "    }\n",
              "\n",
              "    .dataframe tbody tr th {\n",
              "        vertical-align: top;\n",
              "    }\n",
              "\n",
              "    .dataframe thead th {\n",
              "        text-align: right;\n",
              "    }\n",
              "</style>\n",
              "<table border=\"1\" class=\"dataframe\">\n",
              "  <thead>\n",
              "    <tr style=\"text-align: right;\">\n",
              "      <th></th>\n",
              "      <th>TL BASED ISE</th>\n",
              "      <th>USD BASED ISE</th>\n",
              "      <th>SP</th>\n",
              "      <th>DAX</th>\n",
              "      <th>FTSE</th>\n",
              "      <th>NIKKEI</th>\n",
              "      <th>BOVESPA</th>\n",
              "      <th>EU</th>\n",
              "      <th>EM</th>\n",
              "    </tr>\n",
              "  </thead>\n",
              "  <tbody>\n",
              "    <tr>\n",
              "      <th>0</th>\n",
              "      <td>0.035754</td>\n",
              "      <td>0.038376</td>\n",
              "      <td>-0.004679</td>\n",
              "      <td>0.002193</td>\n",
              "      <td>0.003894</td>\n",
              "      <td>0.000000</td>\n",
              "      <td>0.031190</td>\n",
              "      <td>0.012698</td>\n",
              "      <td>0.028524</td>\n",
              "    </tr>\n",
              "    <tr>\n",
              "      <th>1</th>\n",
              "      <td>0.025426</td>\n",
              "      <td>0.031813</td>\n",
              "      <td>0.007787</td>\n",
              "      <td>0.008455</td>\n",
              "      <td>0.012866</td>\n",
              "      <td>0.004162</td>\n",
              "      <td>0.018920</td>\n",
              "      <td>0.011341</td>\n",
              "      <td>0.008773</td>\n",
              "    </tr>\n",
              "    <tr>\n",
              "      <th>2</th>\n",
              "      <td>-0.028862</td>\n",
              "      <td>-0.026353</td>\n",
              "      <td>-0.030469</td>\n",
              "      <td>-0.017833</td>\n",
              "      <td>-0.028735</td>\n",
              "      <td>0.017293</td>\n",
              "      <td>-0.035899</td>\n",
              "      <td>-0.017073</td>\n",
              "      <td>-0.020015</td>\n",
              "    </tr>\n",
              "    <tr>\n",
              "      <th>3</th>\n",
              "      <td>-0.062208</td>\n",
              "      <td>-0.084716</td>\n",
              "      <td>0.003391</td>\n",
              "      <td>-0.011726</td>\n",
              "      <td>-0.000466</td>\n",
              "      <td>-0.040061</td>\n",
              "      <td>0.028283</td>\n",
              "      <td>-0.005561</td>\n",
              "      <td>-0.019424</td>\n",
              "    </tr>\n",
              "    <tr>\n",
              "      <th>4</th>\n",
              "      <td>0.009860</td>\n",
              "      <td>0.009658</td>\n",
              "      <td>-0.021533</td>\n",
              "      <td>-0.019873</td>\n",
              "      <td>-0.012710</td>\n",
              "      <td>-0.004474</td>\n",
              "      <td>-0.009764</td>\n",
              "      <td>0.000610</td>\n",
              "      <td>-0.007802</td>\n",
              "    </tr>\n",
              "  </tbody>\n",
              "</table>\n",
              "</div>"
            ],
            "text/plain": [
              "   TL BASED ISE  USD BASED ISE        SP  ...   BOVESPA        EU        EM\n",
              "0      0.035754       0.038376 -0.004679  ...  0.031190  0.012698  0.028524\n",
              "1      0.025426       0.031813  0.007787  ...  0.018920  0.011341  0.008773\n",
              "2     -0.028862      -0.026353 -0.030469  ... -0.035899 -0.017073 -0.020015\n",
              "3     -0.062208      -0.084716  0.003391  ...  0.028283 -0.005561 -0.019424\n",
              "4      0.009860       0.009658 -0.021533  ... -0.009764  0.000610 -0.007802\n",
              "\n",
              "[5 rows x 9 columns]"
            ]
          },
          "metadata": {
            "tags": []
          },
          "execution_count": 70
        }
      ]
    },
    {
      "cell_type": "markdown",
      "metadata": {
        "id": "DKNgoqUaF3PX",
        "colab_type": "text"
      },
      "source": [
        "Imputing with Median"
      ]
    },
    {
      "cell_type": "code",
      "metadata": {
        "id": "_rikLXHpF4dt",
        "colab_type": "code",
        "outputId": "db5c4356-ea9b-4677-d7ec-e0c1765c7be2",
        "colab": {
          "base_uri": "https://localhost:8080/",
          "height": 204
        }
      },
      "source": [
        "imp = SimpleImputer(missing_values=np.nan, strategy='median')\n",
        "imp.fit(df5)\n",
        "df_filled_median5 = imp.transform(df5)\n",
        "df_filled_median5 = pd.DataFrame(df_filled_median5,columns=df5.columns.values)\n",
        "df_filled_median5.head(5)"
      ],
      "execution_count": 0,
      "outputs": [
        {
          "output_type": "execute_result",
          "data": {
            "text/html": [
              "<div>\n",
              "<style scoped>\n",
              "    .dataframe tbody tr th:only-of-type {\n",
              "        vertical-align: middle;\n",
              "    }\n",
              "\n",
              "    .dataframe tbody tr th {\n",
              "        vertical-align: top;\n",
              "    }\n",
              "\n",
              "    .dataframe thead th {\n",
              "        text-align: right;\n",
              "    }\n",
              "</style>\n",
              "<table border=\"1\" class=\"dataframe\">\n",
              "  <thead>\n",
              "    <tr style=\"text-align: right;\">\n",
              "      <th></th>\n",
              "      <th>TL BASED ISE</th>\n",
              "      <th>USD BASED ISE</th>\n",
              "      <th>SP</th>\n",
              "      <th>DAX</th>\n",
              "      <th>FTSE</th>\n",
              "      <th>NIKKEI</th>\n",
              "      <th>BOVESPA</th>\n",
              "      <th>EU</th>\n",
              "      <th>EM</th>\n",
              "    </tr>\n",
              "  </thead>\n",
              "  <tbody>\n",
              "    <tr>\n",
              "      <th>0</th>\n",
              "      <td>0.035754</td>\n",
              "      <td>0.038376</td>\n",
              "      <td>-0.004679</td>\n",
              "      <td>0.002193</td>\n",
              "      <td>0.003894</td>\n",
              "      <td>0.000000</td>\n",
              "      <td>0.031190</td>\n",
              "      <td>0.012698</td>\n",
              "      <td>0.028524</td>\n",
              "    </tr>\n",
              "    <tr>\n",
              "      <th>1</th>\n",
              "      <td>0.025426</td>\n",
              "      <td>0.031813</td>\n",
              "      <td>0.007787</td>\n",
              "      <td>0.008455</td>\n",
              "      <td>0.012866</td>\n",
              "      <td>0.004162</td>\n",
              "      <td>0.018920</td>\n",
              "      <td>0.011341</td>\n",
              "      <td>0.008773</td>\n",
              "    </tr>\n",
              "    <tr>\n",
              "      <th>2</th>\n",
              "      <td>-0.028862</td>\n",
              "      <td>-0.026353</td>\n",
              "      <td>-0.030469</td>\n",
              "      <td>-0.017833</td>\n",
              "      <td>-0.028735</td>\n",
              "      <td>0.017293</td>\n",
              "      <td>-0.035899</td>\n",
              "      <td>-0.017073</td>\n",
              "      <td>-0.020015</td>\n",
              "    </tr>\n",
              "    <tr>\n",
              "      <th>3</th>\n",
              "      <td>-0.062208</td>\n",
              "      <td>-0.084716</td>\n",
              "      <td>0.003391</td>\n",
              "      <td>-0.011726</td>\n",
              "      <td>-0.000466</td>\n",
              "      <td>-0.040061</td>\n",
              "      <td>0.028283</td>\n",
              "      <td>-0.005561</td>\n",
              "      <td>-0.019424</td>\n",
              "    </tr>\n",
              "    <tr>\n",
              "      <th>4</th>\n",
              "      <td>0.009860</td>\n",
              "      <td>0.009658</td>\n",
              "      <td>-0.021533</td>\n",
              "      <td>-0.019873</td>\n",
              "      <td>-0.012710</td>\n",
              "      <td>-0.004474</td>\n",
              "      <td>-0.009764</td>\n",
              "      <td>0.000376</td>\n",
              "      <td>-0.007802</td>\n",
              "    </tr>\n",
              "  </tbody>\n",
              "</table>\n",
              "</div>"
            ],
            "text/plain": [
              "   TL BASED ISE  USD BASED ISE        SP  ...   BOVESPA        EU        EM\n",
              "0      0.035754       0.038376 -0.004679  ...  0.031190  0.012698  0.028524\n",
              "1      0.025426       0.031813  0.007787  ...  0.018920  0.011341  0.008773\n",
              "2     -0.028862      -0.026353 -0.030469  ... -0.035899 -0.017073 -0.020015\n",
              "3     -0.062208      -0.084716  0.003391  ...  0.028283 -0.005561 -0.019424\n",
              "4      0.009860       0.009658 -0.021533  ... -0.009764  0.000376 -0.007802\n",
              "\n",
              "[5 rows x 9 columns]"
            ]
          },
          "metadata": {
            "tags": []
          },
          "execution_count": 71
        }
      ]
    },
    {
      "cell_type": "markdown",
      "metadata": {
        "id": "W36plx2WF5dl",
        "colab_type": "text"
      },
      "source": [
        "Imputing with KNN"
      ]
    },
    {
      "cell_type": "code",
      "metadata": {
        "id": "9si5SW2AF6fH",
        "colab_type": "code",
        "colab": {}
      },
      "source": [
        "imputer = KNNImputer(n_neighbors=5)\n",
        "df_filled_KNN5 = imputer.fit_transform(df5)\n"
      ],
      "execution_count": 0,
      "outputs": []
    },
    {
      "cell_type": "code",
      "metadata": {
        "id": "jdTPKIvTKjvt",
        "colab_type": "code",
        "colab": {}
      },
      "source": [
        "df_filled_KNN5 = pd.DataFrame(df_filled_KNN5,columns=df5.columns.values)"
      ],
      "execution_count": 0,
      "outputs": []
    },
    {
      "cell_type": "code",
      "metadata": {
        "id": "AmjRV9ofMPZM",
        "colab_type": "code",
        "outputId": "aa46bd36-7a38-4f6c-96d3-96e073d801e7",
        "colab": {
          "base_uri": "https://localhost:8080/",
          "height": 204
        }
      },
      "source": [
        "df_filled_KNN5.head(5)"
      ],
      "execution_count": 0,
      "outputs": [
        {
          "output_type": "execute_result",
          "data": {
            "text/html": [
              "<div>\n",
              "<style scoped>\n",
              "    .dataframe tbody tr th:only-of-type {\n",
              "        vertical-align: middle;\n",
              "    }\n",
              "\n",
              "    .dataframe tbody tr th {\n",
              "        vertical-align: top;\n",
              "    }\n",
              "\n",
              "    .dataframe thead th {\n",
              "        text-align: right;\n",
              "    }\n",
              "</style>\n",
              "<table border=\"1\" class=\"dataframe\">\n",
              "  <thead>\n",
              "    <tr style=\"text-align: right;\">\n",
              "      <th></th>\n",
              "      <th>TL BASED ISE</th>\n",
              "      <th>USD BASED ISE</th>\n",
              "      <th>SP</th>\n",
              "      <th>DAX</th>\n",
              "      <th>FTSE</th>\n",
              "      <th>NIKKEI</th>\n",
              "      <th>BOVESPA</th>\n",
              "      <th>EU</th>\n",
              "      <th>EM</th>\n",
              "    </tr>\n",
              "  </thead>\n",
              "  <tbody>\n",
              "    <tr>\n",
              "      <th>0</th>\n",
              "      <td>0.035754</td>\n",
              "      <td>0.038376</td>\n",
              "      <td>-0.004679</td>\n",
              "      <td>0.002193</td>\n",
              "      <td>0.003894</td>\n",
              "      <td>0.000000</td>\n",
              "      <td>0.031190</td>\n",
              "      <td>0.012698</td>\n",
              "      <td>0.028524</td>\n",
              "    </tr>\n",
              "    <tr>\n",
              "      <th>1</th>\n",
              "      <td>0.025426</td>\n",
              "      <td>0.031813</td>\n",
              "      <td>0.007787</td>\n",
              "      <td>0.008455</td>\n",
              "      <td>0.012866</td>\n",
              "      <td>0.004162</td>\n",
              "      <td>0.018920</td>\n",
              "      <td>0.011341</td>\n",
              "      <td>0.008773</td>\n",
              "    </tr>\n",
              "    <tr>\n",
              "      <th>2</th>\n",
              "      <td>-0.028862</td>\n",
              "      <td>-0.026353</td>\n",
              "      <td>-0.030469</td>\n",
              "      <td>-0.017833</td>\n",
              "      <td>-0.028735</td>\n",
              "      <td>0.017293</td>\n",
              "      <td>-0.035899</td>\n",
              "      <td>-0.017073</td>\n",
              "      <td>-0.020015</td>\n",
              "    </tr>\n",
              "    <tr>\n",
              "      <th>3</th>\n",
              "      <td>-0.062208</td>\n",
              "      <td>-0.084716</td>\n",
              "      <td>0.003391</td>\n",
              "      <td>-0.011726</td>\n",
              "      <td>-0.000466</td>\n",
              "      <td>-0.040061</td>\n",
              "      <td>0.028283</td>\n",
              "      <td>-0.005561</td>\n",
              "      <td>-0.019424</td>\n",
              "    </tr>\n",
              "    <tr>\n",
              "      <th>4</th>\n",
              "      <td>0.009860</td>\n",
              "      <td>0.009658</td>\n",
              "      <td>-0.021533</td>\n",
              "      <td>-0.019873</td>\n",
              "      <td>-0.012710</td>\n",
              "      <td>-0.004474</td>\n",
              "      <td>-0.009764</td>\n",
              "      <td>-0.013599</td>\n",
              "      <td>-0.007802</td>\n",
              "    </tr>\n",
              "  </tbody>\n",
              "</table>\n",
              "</div>"
            ],
            "text/plain": [
              "   TL BASED ISE  USD BASED ISE        SP  ...   BOVESPA        EU        EM\n",
              "0      0.035754       0.038376 -0.004679  ...  0.031190  0.012698  0.028524\n",
              "1      0.025426       0.031813  0.007787  ...  0.018920  0.011341  0.008773\n",
              "2     -0.028862      -0.026353 -0.030469  ... -0.035899 -0.017073 -0.020015\n",
              "3     -0.062208      -0.084716  0.003391  ...  0.028283 -0.005561 -0.019424\n",
              "4      0.009860       0.009658 -0.021533  ... -0.009764 -0.013599 -0.007802\n",
              "\n",
              "[5 rows x 9 columns]"
            ]
          },
          "metadata": {
            "tags": []
          },
          "execution_count": 74
        }
      ]
    },
    {
      "cell_type": "markdown",
      "metadata": {
        "id": "61yAcQghkMuV",
        "colab_type": "text"
      },
      "source": [
        "#### At 10% Missing Values"
      ]
    },
    {
      "cell_type": "code",
      "metadata": {
        "id": "YtDghL9MkQGu",
        "colab_type": "code",
        "outputId": "e737de77-9a90-47fb-cb61-7955d2a68b26",
        "colab": {
          "base_uri": "https://localhost:8080/",
          "height": 204
        }
      },
      "source": [
        "#simulando un 10% de celdas missing\n",
        "df10 = stock_df.copy(deep=True)\n",
        "df10 = df10.stack().sample(frac=0.90).unstack().reindex(index=df10.index, columns=df10.columns)\n",
        "df10.head(5)"
      ],
      "execution_count": 0,
      "outputs": [
        {
          "output_type": "execute_result",
          "data": {
            "text/html": [
              "<div>\n",
              "<style scoped>\n",
              "    .dataframe tbody tr th:only-of-type {\n",
              "        vertical-align: middle;\n",
              "    }\n",
              "\n",
              "    .dataframe tbody tr th {\n",
              "        vertical-align: top;\n",
              "    }\n",
              "\n",
              "    .dataframe thead th {\n",
              "        text-align: right;\n",
              "    }\n",
              "</style>\n",
              "<table border=\"1\" class=\"dataframe\">\n",
              "  <thead>\n",
              "    <tr style=\"text-align: right;\">\n",
              "      <th></th>\n",
              "      <th>TL BASED ISE</th>\n",
              "      <th>USD BASED ISE</th>\n",
              "      <th>SP</th>\n",
              "      <th>DAX</th>\n",
              "      <th>FTSE</th>\n",
              "      <th>NIKKEI</th>\n",
              "      <th>BOVESPA</th>\n",
              "      <th>EU</th>\n",
              "      <th>EM</th>\n",
              "    </tr>\n",
              "  </thead>\n",
              "  <tbody>\n",
              "    <tr>\n",
              "      <th>0</th>\n",
              "      <td>0.035754</td>\n",
              "      <td>NaN</td>\n",
              "      <td>-0.004679</td>\n",
              "      <td>0.002193</td>\n",
              "      <td>0.003894</td>\n",
              "      <td>0.000000</td>\n",
              "      <td>0.031190</td>\n",
              "      <td>0.012698</td>\n",
              "      <td>0.028524</td>\n",
              "    </tr>\n",
              "    <tr>\n",
              "      <th>1</th>\n",
              "      <td>0.025426</td>\n",
              "      <td>0.031813</td>\n",
              "      <td>0.007787</td>\n",
              "      <td>0.008455</td>\n",
              "      <td>0.012866</td>\n",
              "      <td>0.004162</td>\n",
              "      <td>0.018920</td>\n",
              "      <td>0.011341</td>\n",
              "      <td>NaN</td>\n",
              "    </tr>\n",
              "    <tr>\n",
              "      <th>2</th>\n",
              "      <td>-0.028862</td>\n",
              "      <td>-0.026353</td>\n",
              "      <td>-0.030469</td>\n",
              "      <td>-0.017833</td>\n",
              "      <td>-0.028735</td>\n",
              "      <td>0.017293</td>\n",
              "      <td>-0.035899</td>\n",
              "      <td>-0.017073</td>\n",
              "      <td>-0.020015</td>\n",
              "    </tr>\n",
              "    <tr>\n",
              "      <th>3</th>\n",
              "      <td>NaN</td>\n",
              "      <td>-0.084716</td>\n",
              "      <td>0.003391</td>\n",
              "      <td>-0.011726</td>\n",
              "      <td>-0.000466</td>\n",
              "      <td>-0.040061</td>\n",
              "      <td>0.028283</td>\n",
              "      <td>-0.005561</td>\n",
              "      <td>-0.019424</td>\n",
              "    </tr>\n",
              "    <tr>\n",
              "      <th>4</th>\n",
              "      <td>0.009860</td>\n",
              "      <td>0.009658</td>\n",
              "      <td>-0.021533</td>\n",
              "      <td>-0.019873</td>\n",
              "      <td>-0.012710</td>\n",
              "      <td>-0.004474</td>\n",
              "      <td>-0.009764</td>\n",
              "      <td>-0.010989</td>\n",
              "      <td>-0.007802</td>\n",
              "    </tr>\n",
              "  </tbody>\n",
              "</table>\n",
              "</div>"
            ],
            "text/plain": [
              "   TL BASED ISE  USD BASED ISE        SP  ...   BOVESPA        EU        EM\n",
              "0      0.035754            NaN -0.004679  ...  0.031190  0.012698  0.028524\n",
              "1      0.025426       0.031813  0.007787  ...  0.018920  0.011341       NaN\n",
              "2     -0.028862      -0.026353 -0.030469  ... -0.035899 -0.017073 -0.020015\n",
              "3           NaN      -0.084716  0.003391  ...  0.028283 -0.005561 -0.019424\n",
              "4      0.009860       0.009658 -0.021533  ... -0.009764 -0.010989 -0.007802\n",
              "\n",
              "[5 rows x 9 columns]"
            ]
          },
          "metadata": {
            "tags": []
          },
          "execution_count": 75
        }
      ]
    },
    {
      "cell_type": "markdown",
      "metadata": {
        "colab_type": "text",
        "id": "dgjudUL4odjo"
      },
      "source": [
        "#####Part 2: Imputing Feature Values"
      ]
    },
    {
      "cell_type": "markdown",
      "metadata": {
        "colab_type": "text",
        "id": "Ii-eSwbqodjq"
      },
      "source": [
        "Imputing with Mean"
      ]
    },
    {
      "cell_type": "code",
      "metadata": {
        "colab_type": "code",
        "outputId": "c9e44c06-213c-4fd6-8773-824f26221892",
        "id": "rUZj1CkLodjr",
        "colab": {
          "base_uri": "https://localhost:8080/",
          "height": 204
        }
      },
      "source": [
        "imp = SimpleImputer(missing_values=np.nan, strategy='mean')\n",
        "imp.fit(df10)\n",
        "df_filled_mean10 = imp.transform(df10)\n",
        "df_filled_mean10 = pd.DataFrame(df_filled_mean10,columns=df10.columns.values)\n",
        "df_filled_mean10.head(5)"
      ],
      "execution_count": 0,
      "outputs": [
        {
          "output_type": "execute_result",
          "data": {
            "text/html": [
              "<div>\n",
              "<style scoped>\n",
              "    .dataframe tbody tr th:only-of-type {\n",
              "        vertical-align: middle;\n",
              "    }\n",
              "\n",
              "    .dataframe tbody tr th {\n",
              "        vertical-align: top;\n",
              "    }\n",
              "\n",
              "    .dataframe thead th {\n",
              "        text-align: right;\n",
              "    }\n",
              "</style>\n",
              "<table border=\"1\" class=\"dataframe\">\n",
              "  <thead>\n",
              "    <tr style=\"text-align: right;\">\n",
              "      <th></th>\n",
              "      <th>TL BASED ISE</th>\n",
              "      <th>USD BASED ISE</th>\n",
              "      <th>SP</th>\n",
              "      <th>DAX</th>\n",
              "      <th>FTSE</th>\n",
              "      <th>NIKKEI</th>\n",
              "      <th>BOVESPA</th>\n",
              "      <th>EU</th>\n",
              "      <th>EM</th>\n",
              "    </tr>\n",
              "  </thead>\n",
              "  <tbody>\n",
              "    <tr>\n",
              "      <th>0</th>\n",
              "      <td>0.035754</td>\n",
              "      <td>0.001039</td>\n",
              "      <td>-0.004679</td>\n",
              "      <td>0.002193</td>\n",
              "      <td>0.003894</td>\n",
              "      <td>0.000000</td>\n",
              "      <td>0.031190</td>\n",
              "      <td>0.012698</td>\n",
              "      <td>0.028524</td>\n",
              "    </tr>\n",
              "    <tr>\n",
              "      <th>1</th>\n",
              "      <td>0.025426</td>\n",
              "      <td>0.031813</td>\n",
              "      <td>0.007787</td>\n",
              "      <td>0.008455</td>\n",
              "      <td>0.012866</td>\n",
              "      <td>0.004162</td>\n",
              "      <td>0.018920</td>\n",
              "      <td>0.011341</td>\n",
              "      <td>0.000890</td>\n",
              "    </tr>\n",
              "    <tr>\n",
              "      <th>2</th>\n",
              "      <td>-0.028862</td>\n",
              "      <td>-0.026353</td>\n",
              "      <td>-0.030469</td>\n",
              "      <td>-0.017833</td>\n",
              "      <td>-0.028735</td>\n",
              "      <td>0.017293</td>\n",
              "      <td>-0.035899</td>\n",
              "      <td>-0.017073</td>\n",
              "      <td>-0.020015</td>\n",
              "    </tr>\n",
              "    <tr>\n",
              "      <th>3</th>\n",
              "      <td>0.001796</td>\n",
              "      <td>-0.084716</td>\n",
              "      <td>0.003391</td>\n",
              "      <td>-0.011726</td>\n",
              "      <td>-0.000466</td>\n",
              "      <td>-0.040061</td>\n",
              "      <td>0.028283</td>\n",
              "      <td>-0.005561</td>\n",
              "      <td>-0.019424</td>\n",
              "    </tr>\n",
              "    <tr>\n",
              "      <th>4</th>\n",
              "      <td>0.009860</td>\n",
              "      <td>0.009658</td>\n",
              "      <td>-0.021533</td>\n",
              "      <td>-0.019873</td>\n",
              "      <td>-0.012710</td>\n",
              "      <td>-0.004474</td>\n",
              "      <td>-0.009764</td>\n",
              "      <td>-0.010989</td>\n",
              "      <td>-0.007802</td>\n",
              "    </tr>\n",
              "  </tbody>\n",
              "</table>\n",
              "</div>"
            ],
            "text/plain": [
              "   TL BASED ISE  USD BASED ISE        SP  ...   BOVESPA        EU        EM\n",
              "0      0.035754       0.001039 -0.004679  ...  0.031190  0.012698  0.028524\n",
              "1      0.025426       0.031813  0.007787  ...  0.018920  0.011341  0.000890\n",
              "2     -0.028862      -0.026353 -0.030469  ... -0.035899 -0.017073 -0.020015\n",
              "3      0.001796      -0.084716  0.003391  ...  0.028283 -0.005561 -0.019424\n",
              "4      0.009860       0.009658 -0.021533  ... -0.009764 -0.010989 -0.007802\n",
              "\n",
              "[5 rows x 9 columns]"
            ]
          },
          "metadata": {
            "tags": []
          },
          "execution_count": 76
        }
      ]
    },
    {
      "cell_type": "markdown",
      "metadata": {
        "colab_type": "text",
        "id": "ynZ1rgmoodju"
      },
      "source": [
        "Imputing with Median"
      ]
    },
    {
      "cell_type": "code",
      "metadata": {
        "colab_type": "code",
        "outputId": "b59fc427-c1c5-4d63-f5ff-268d99fa5839",
        "id": "UQp-FDJmodjv",
        "colab": {
          "base_uri": "https://localhost:8080/",
          "height": 204
        }
      },
      "source": [
        "imp = SimpleImputer(missing_values=np.nan, strategy='median')\n",
        "imp.fit(df10)\n",
        "df_filled_median10 = imp.transform(df10)\n",
        "df_filled_median10 = pd.DataFrame(df_filled_median10,columns=df10.columns.values)\n",
        "df_filled_median10.head(5)"
      ],
      "execution_count": 0,
      "outputs": [
        {
          "output_type": "execute_result",
          "data": {
            "text/html": [
              "<div>\n",
              "<style scoped>\n",
              "    .dataframe tbody tr th:only-of-type {\n",
              "        vertical-align: middle;\n",
              "    }\n",
              "\n",
              "    .dataframe tbody tr th {\n",
              "        vertical-align: top;\n",
              "    }\n",
              "\n",
              "    .dataframe thead th {\n",
              "        text-align: right;\n",
              "    }\n",
              "</style>\n",
              "<table border=\"1\" class=\"dataframe\">\n",
              "  <thead>\n",
              "    <tr style=\"text-align: right;\">\n",
              "      <th></th>\n",
              "      <th>TL BASED ISE</th>\n",
              "      <th>USD BASED ISE</th>\n",
              "      <th>SP</th>\n",
              "      <th>DAX</th>\n",
              "      <th>FTSE</th>\n",
              "      <th>NIKKEI</th>\n",
              "      <th>BOVESPA</th>\n",
              "      <th>EU</th>\n",
              "      <th>EM</th>\n",
              "    </tr>\n",
              "  </thead>\n",
              "  <tbody>\n",
              "    <tr>\n",
              "      <th>0</th>\n",
              "      <td>0.035754</td>\n",
              "      <td>0.002742</td>\n",
              "      <td>-0.004679</td>\n",
              "      <td>0.002193</td>\n",
              "      <td>0.003894</td>\n",
              "      <td>0.000000</td>\n",
              "      <td>0.031190</td>\n",
              "      <td>0.012698</td>\n",
              "      <td>0.028524</td>\n",
              "    </tr>\n",
              "    <tr>\n",
              "      <th>1</th>\n",
              "      <td>0.025426</td>\n",
              "      <td>0.031813</td>\n",
              "      <td>0.007787</td>\n",
              "      <td>0.008455</td>\n",
              "      <td>0.012866</td>\n",
              "      <td>0.004162</td>\n",
              "      <td>0.018920</td>\n",
              "      <td>0.011341</td>\n",
              "      <td>0.001077</td>\n",
              "    </tr>\n",
              "    <tr>\n",
              "      <th>2</th>\n",
              "      <td>-0.028862</td>\n",
              "      <td>-0.026353</td>\n",
              "      <td>-0.030469</td>\n",
              "      <td>-0.017833</td>\n",
              "      <td>-0.028735</td>\n",
              "      <td>0.017293</td>\n",
              "      <td>-0.035899</td>\n",
              "      <td>-0.017073</td>\n",
              "      <td>-0.020015</td>\n",
              "    </tr>\n",
              "    <tr>\n",
              "      <th>3</th>\n",
              "      <td>0.002251</td>\n",
              "      <td>-0.084716</td>\n",
              "      <td>0.003391</td>\n",
              "      <td>-0.011726</td>\n",
              "      <td>-0.000466</td>\n",
              "      <td>-0.040061</td>\n",
              "      <td>0.028283</td>\n",
              "      <td>-0.005561</td>\n",
              "      <td>-0.019424</td>\n",
              "    </tr>\n",
              "    <tr>\n",
              "      <th>4</th>\n",
              "      <td>0.009860</td>\n",
              "      <td>0.009658</td>\n",
              "      <td>-0.021533</td>\n",
              "      <td>-0.019873</td>\n",
              "      <td>-0.012710</td>\n",
              "      <td>-0.004474</td>\n",
              "      <td>-0.009764</td>\n",
              "      <td>-0.010989</td>\n",
              "      <td>-0.007802</td>\n",
              "    </tr>\n",
              "  </tbody>\n",
              "</table>\n",
              "</div>"
            ],
            "text/plain": [
              "   TL BASED ISE  USD BASED ISE        SP  ...   BOVESPA        EU        EM\n",
              "0      0.035754       0.002742 -0.004679  ...  0.031190  0.012698  0.028524\n",
              "1      0.025426       0.031813  0.007787  ...  0.018920  0.011341  0.001077\n",
              "2     -0.028862      -0.026353 -0.030469  ... -0.035899 -0.017073 -0.020015\n",
              "3      0.002251      -0.084716  0.003391  ...  0.028283 -0.005561 -0.019424\n",
              "4      0.009860       0.009658 -0.021533  ... -0.009764 -0.010989 -0.007802\n",
              "\n",
              "[5 rows x 9 columns]"
            ]
          },
          "metadata": {
            "tags": []
          },
          "execution_count": 77
        }
      ]
    },
    {
      "cell_type": "markdown",
      "metadata": {
        "colab_type": "text",
        "id": "FeysjJLGodjx"
      },
      "source": [
        "Imputing with KNN"
      ]
    },
    {
      "cell_type": "code",
      "metadata": {
        "colab_type": "code",
        "id": "Uyu2T6rzodjy",
        "colab": {}
      },
      "source": [
        "imputer = KNNImputer(n_neighbors=5)\n",
        "df_filled_KNN10 = imputer.fit_transform(df10)\n"
      ],
      "execution_count": 0,
      "outputs": []
    },
    {
      "cell_type": "code",
      "metadata": {
        "colab_type": "code",
        "id": "1HEindLSodj0",
        "colab": {}
      },
      "source": [
        "df_filled_KNN10 = pd.DataFrame(df_filled_KNN10,columns=df10.columns.values)"
      ],
      "execution_count": 0,
      "outputs": []
    },
    {
      "cell_type": "code",
      "metadata": {
        "colab_type": "code",
        "outputId": "6f618517-7b28-45d3-f93d-dadb7f1da6de",
        "id": "UPWaX7UKodj4",
        "colab": {
          "base_uri": "https://localhost:8080/",
          "height": 204
        }
      },
      "source": [
        "df_filled_KNN10.head(5)"
      ],
      "execution_count": 0,
      "outputs": [
        {
          "output_type": "execute_result",
          "data": {
            "text/html": [
              "<div>\n",
              "<style scoped>\n",
              "    .dataframe tbody tr th:only-of-type {\n",
              "        vertical-align: middle;\n",
              "    }\n",
              "\n",
              "    .dataframe tbody tr th {\n",
              "        vertical-align: top;\n",
              "    }\n",
              "\n",
              "    .dataframe thead th {\n",
              "        text-align: right;\n",
              "    }\n",
              "</style>\n",
              "<table border=\"1\" class=\"dataframe\">\n",
              "  <thead>\n",
              "    <tr style=\"text-align: right;\">\n",
              "      <th></th>\n",
              "      <th>TL BASED ISE</th>\n",
              "      <th>USD BASED ISE</th>\n",
              "      <th>SP</th>\n",
              "      <th>DAX</th>\n",
              "      <th>FTSE</th>\n",
              "      <th>NIKKEI</th>\n",
              "      <th>BOVESPA</th>\n",
              "      <th>EU</th>\n",
              "      <th>EM</th>\n",
              "    </tr>\n",
              "  </thead>\n",
              "  <tbody>\n",
              "    <tr>\n",
              "      <th>0</th>\n",
              "      <td>0.035754</td>\n",
              "      <td>0.030584</td>\n",
              "      <td>-0.004679</td>\n",
              "      <td>0.002193</td>\n",
              "      <td>0.003894</td>\n",
              "      <td>0.000000</td>\n",
              "      <td>0.031190</td>\n",
              "      <td>0.012698</td>\n",
              "      <td>0.028524</td>\n",
              "    </tr>\n",
              "    <tr>\n",
              "      <th>1</th>\n",
              "      <td>0.025426</td>\n",
              "      <td>0.031813</td>\n",
              "      <td>0.007787</td>\n",
              "      <td>0.008455</td>\n",
              "      <td>0.012866</td>\n",
              "      <td>0.004162</td>\n",
              "      <td>0.018920</td>\n",
              "      <td>0.011341</td>\n",
              "      <td>0.008625</td>\n",
              "    </tr>\n",
              "    <tr>\n",
              "      <th>2</th>\n",
              "      <td>-0.028862</td>\n",
              "      <td>-0.026353</td>\n",
              "      <td>-0.030469</td>\n",
              "      <td>-0.017833</td>\n",
              "      <td>-0.028735</td>\n",
              "      <td>0.017293</td>\n",
              "      <td>-0.035899</td>\n",
              "      <td>-0.017073</td>\n",
              "      <td>-0.020015</td>\n",
              "    </tr>\n",
              "    <tr>\n",
              "      <th>3</th>\n",
              "      <td>-0.001721</td>\n",
              "      <td>-0.084716</td>\n",
              "      <td>0.003391</td>\n",
              "      <td>-0.011726</td>\n",
              "      <td>-0.000466</td>\n",
              "      <td>-0.040061</td>\n",
              "      <td>0.028283</td>\n",
              "      <td>-0.005561</td>\n",
              "      <td>-0.019424</td>\n",
              "    </tr>\n",
              "    <tr>\n",
              "      <th>4</th>\n",
              "      <td>0.009860</td>\n",
              "      <td>0.009658</td>\n",
              "      <td>-0.021533</td>\n",
              "      <td>-0.019873</td>\n",
              "      <td>-0.012710</td>\n",
              "      <td>-0.004474</td>\n",
              "      <td>-0.009764</td>\n",
              "      <td>-0.010989</td>\n",
              "      <td>-0.007802</td>\n",
              "    </tr>\n",
              "  </tbody>\n",
              "</table>\n",
              "</div>"
            ],
            "text/plain": [
              "   TL BASED ISE  USD BASED ISE        SP  ...   BOVESPA        EU        EM\n",
              "0      0.035754       0.030584 -0.004679  ...  0.031190  0.012698  0.028524\n",
              "1      0.025426       0.031813  0.007787  ...  0.018920  0.011341  0.008625\n",
              "2     -0.028862      -0.026353 -0.030469  ... -0.035899 -0.017073 -0.020015\n",
              "3     -0.001721      -0.084716  0.003391  ...  0.028283 -0.005561 -0.019424\n",
              "4      0.009860       0.009658 -0.021533  ... -0.009764 -0.010989 -0.007802\n",
              "\n",
              "[5 rows x 9 columns]"
            ]
          },
          "metadata": {
            "tags": []
          },
          "execution_count": 80
        }
      ]
    },
    {
      "cell_type": "markdown",
      "metadata": {
        "id": "3KbQhX7gkQoN",
        "colab_type": "text"
      },
      "source": [
        "#### At 15% Missing Values"
      ]
    },
    {
      "cell_type": "code",
      "metadata": {
        "id": "lMvdayDbkTAF",
        "colab_type": "code",
        "outputId": "32bf8ecb-abdc-4c39-f78b-4825c3184840",
        "colab": {
          "base_uri": "https://localhost:8080/",
          "height": 204
        }
      },
      "source": [
        "#simulando un 15% de celdas missing\n",
        "df15 = stock_df.copy(deep=True)\n",
        "df15 = df15.stack().sample(frac=0.85).unstack().reindex(index=df15.index, columns=df15.columns)\n",
        "df15.head(5)"
      ],
      "execution_count": 0,
      "outputs": [
        {
          "output_type": "execute_result",
          "data": {
            "text/html": [
              "<div>\n",
              "<style scoped>\n",
              "    .dataframe tbody tr th:only-of-type {\n",
              "        vertical-align: middle;\n",
              "    }\n",
              "\n",
              "    .dataframe tbody tr th {\n",
              "        vertical-align: top;\n",
              "    }\n",
              "\n",
              "    .dataframe thead th {\n",
              "        text-align: right;\n",
              "    }\n",
              "</style>\n",
              "<table border=\"1\" class=\"dataframe\">\n",
              "  <thead>\n",
              "    <tr style=\"text-align: right;\">\n",
              "      <th></th>\n",
              "      <th>TL BASED ISE</th>\n",
              "      <th>USD BASED ISE</th>\n",
              "      <th>SP</th>\n",
              "      <th>DAX</th>\n",
              "      <th>FTSE</th>\n",
              "      <th>NIKKEI</th>\n",
              "      <th>BOVESPA</th>\n",
              "      <th>EU</th>\n",
              "      <th>EM</th>\n",
              "    </tr>\n",
              "  </thead>\n",
              "  <tbody>\n",
              "    <tr>\n",
              "      <th>0</th>\n",
              "      <td>0.035754</td>\n",
              "      <td>0.038376</td>\n",
              "      <td>-0.004679</td>\n",
              "      <td>0.002193</td>\n",
              "      <td>0.003894</td>\n",
              "      <td>0.000000</td>\n",
              "      <td>0.031190</td>\n",
              "      <td>NaN</td>\n",
              "      <td>0.028524</td>\n",
              "    </tr>\n",
              "    <tr>\n",
              "      <th>1</th>\n",
              "      <td>0.025426</td>\n",
              "      <td>NaN</td>\n",
              "      <td>0.007787</td>\n",
              "      <td>NaN</td>\n",
              "      <td>0.012866</td>\n",
              "      <td>NaN</td>\n",
              "      <td>0.018920</td>\n",
              "      <td>0.011341</td>\n",
              "      <td>0.008773</td>\n",
              "    </tr>\n",
              "    <tr>\n",
              "      <th>2</th>\n",
              "      <td>-0.028862</td>\n",
              "      <td>NaN</td>\n",
              "      <td>-0.030469</td>\n",
              "      <td>-0.017833</td>\n",
              "      <td>-0.028735</td>\n",
              "      <td>NaN</td>\n",
              "      <td>NaN</td>\n",
              "      <td>-0.017073</td>\n",
              "      <td>NaN</td>\n",
              "    </tr>\n",
              "    <tr>\n",
              "      <th>3</th>\n",
              "      <td>-0.062208</td>\n",
              "      <td>-0.084716</td>\n",
              "      <td>0.003391</td>\n",
              "      <td>-0.011726</td>\n",
              "      <td>-0.000466</td>\n",
              "      <td>-0.040061</td>\n",
              "      <td>0.028283</td>\n",
              "      <td>NaN</td>\n",
              "      <td>-0.019424</td>\n",
              "    </tr>\n",
              "    <tr>\n",
              "      <th>4</th>\n",
              "      <td>0.009860</td>\n",
              "      <td>0.009658</td>\n",
              "      <td>-0.021533</td>\n",
              "      <td>-0.019873</td>\n",
              "      <td>-0.012710</td>\n",
              "      <td>-0.004474</td>\n",
              "      <td>-0.009764</td>\n",
              "      <td>-0.010989</td>\n",
              "      <td>-0.007802</td>\n",
              "    </tr>\n",
              "  </tbody>\n",
              "</table>\n",
              "</div>"
            ],
            "text/plain": [
              "   TL BASED ISE  USD BASED ISE        SP  ...   BOVESPA        EU        EM\n",
              "0      0.035754       0.038376 -0.004679  ...  0.031190       NaN  0.028524\n",
              "1      0.025426            NaN  0.007787  ...  0.018920  0.011341  0.008773\n",
              "2     -0.028862            NaN -0.030469  ...       NaN -0.017073       NaN\n",
              "3     -0.062208      -0.084716  0.003391  ...  0.028283       NaN -0.019424\n",
              "4      0.009860       0.009658 -0.021533  ... -0.009764 -0.010989 -0.007802\n",
              "\n",
              "[5 rows x 9 columns]"
            ]
          },
          "metadata": {
            "tags": []
          },
          "execution_count": 81
        }
      ]
    },
    {
      "cell_type": "markdown",
      "metadata": {
        "colab_type": "text",
        "id": "lhhv4E_9o9yh"
      },
      "source": [
        "#####Part 2: Imputing Feature Values"
      ]
    },
    {
      "cell_type": "markdown",
      "metadata": {
        "colab_type": "text",
        "id": "Ho2rUQ_wo9yi"
      },
      "source": [
        "Imputing with Mean"
      ]
    },
    {
      "cell_type": "code",
      "metadata": {
        "colab_type": "code",
        "outputId": "4c085621-8957-4bf5-eecc-2ebf04aabbf0",
        "id": "5OVtorLUo9yj",
        "colab": {
          "base_uri": "https://localhost:8080/",
          "height": 204
        }
      },
      "source": [
        "imp = SimpleImputer(missing_values=np.nan, strategy='mean')\n",
        "imp.fit(df15)\n",
        "df_filled_mean15 = imp.transform(df15)\n",
        "df_filled_mean15 = pd.DataFrame(df_filled_mean15,columns=df15.columns.values)\n",
        "df_filled_mean15.head(5)"
      ],
      "execution_count": 0,
      "outputs": [
        {
          "output_type": "execute_result",
          "data": {
            "text/html": [
              "<div>\n",
              "<style scoped>\n",
              "    .dataframe tbody tr th:only-of-type {\n",
              "        vertical-align: middle;\n",
              "    }\n",
              "\n",
              "    .dataframe tbody tr th {\n",
              "        vertical-align: top;\n",
              "    }\n",
              "\n",
              "    .dataframe thead th {\n",
              "        text-align: right;\n",
              "    }\n",
              "</style>\n",
              "<table border=\"1\" class=\"dataframe\">\n",
              "  <thead>\n",
              "    <tr style=\"text-align: right;\">\n",
              "      <th></th>\n",
              "      <th>TL BASED ISE</th>\n",
              "      <th>USD BASED ISE</th>\n",
              "      <th>SP</th>\n",
              "      <th>DAX</th>\n",
              "      <th>FTSE</th>\n",
              "      <th>NIKKEI</th>\n",
              "      <th>BOVESPA</th>\n",
              "      <th>EU</th>\n",
              "      <th>EM</th>\n",
              "    </tr>\n",
              "  </thead>\n",
              "  <tbody>\n",
              "    <tr>\n",
              "      <th>0</th>\n",
              "      <td>0.035754</td>\n",
              "      <td>0.038376</td>\n",
              "      <td>-0.004679</td>\n",
              "      <td>0.002193</td>\n",
              "      <td>0.003894</td>\n",
              "      <td>0.000000</td>\n",
              "      <td>0.031190</td>\n",
              "      <td>0.000718</td>\n",
              "      <td>0.028524</td>\n",
              "    </tr>\n",
              "    <tr>\n",
              "      <th>1</th>\n",
              "      <td>0.025426</td>\n",
              "      <td>0.001513</td>\n",
              "      <td>0.007787</td>\n",
              "      <td>0.000386</td>\n",
              "      <td>0.012866</td>\n",
              "      <td>0.000059</td>\n",
              "      <td>0.018920</td>\n",
              "      <td>0.011341</td>\n",
              "      <td>0.008773</td>\n",
              "    </tr>\n",
              "    <tr>\n",
              "      <th>2</th>\n",
              "      <td>-0.028862</td>\n",
              "      <td>0.001513</td>\n",
              "      <td>-0.030469</td>\n",
              "      <td>-0.017833</td>\n",
              "      <td>-0.028735</td>\n",
              "      <td>0.000059</td>\n",
              "      <td>0.001566</td>\n",
              "      <td>-0.017073</td>\n",
              "      <td>0.000788</td>\n",
              "    </tr>\n",
              "    <tr>\n",
              "      <th>3</th>\n",
              "      <td>-0.062208</td>\n",
              "      <td>-0.084716</td>\n",
              "      <td>0.003391</td>\n",
              "      <td>-0.011726</td>\n",
              "      <td>-0.000466</td>\n",
              "      <td>-0.040061</td>\n",
              "      <td>0.028283</td>\n",
              "      <td>0.000718</td>\n",
              "      <td>-0.019424</td>\n",
              "    </tr>\n",
              "    <tr>\n",
              "      <th>4</th>\n",
              "      <td>0.009860</td>\n",
              "      <td>0.009658</td>\n",
              "      <td>-0.021533</td>\n",
              "      <td>-0.019873</td>\n",
              "      <td>-0.012710</td>\n",
              "      <td>-0.004474</td>\n",
              "      <td>-0.009764</td>\n",
              "      <td>-0.010989</td>\n",
              "      <td>-0.007802</td>\n",
              "    </tr>\n",
              "  </tbody>\n",
              "</table>\n",
              "</div>"
            ],
            "text/plain": [
              "   TL BASED ISE  USD BASED ISE        SP  ...   BOVESPA        EU        EM\n",
              "0      0.035754       0.038376 -0.004679  ...  0.031190  0.000718  0.028524\n",
              "1      0.025426       0.001513  0.007787  ...  0.018920  0.011341  0.008773\n",
              "2     -0.028862       0.001513 -0.030469  ...  0.001566 -0.017073  0.000788\n",
              "3     -0.062208      -0.084716  0.003391  ...  0.028283  0.000718 -0.019424\n",
              "4      0.009860       0.009658 -0.021533  ... -0.009764 -0.010989 -0.007802\n",
              "\n",
              "[5 rows x 9 columns]"
            ]
          },
          "metadata": {
            "tags": []
          },
          "execution_count": 82
        }
      ]
    },
    {
      "cell_type": "markdown",
      "metadata": {
        "colab_type": "text",
        "id": "0ryMNqk2o9ym"
      },
      "source": [
        "Imputing with Median"
      ]
    },
    {
      "cell_type": "code",
      "metadata": {
        "colab_type": "code",
        "outputId": "2470a431-7771-4077-96e0-9be2f378e9bd",
        "id": "GkMjBkKjo9yn",
        "colab": {
          "base_uri": "https://localhost:8080/",
          "height": 204
        }
      },
      "source": [
        "imp = SimpleImputer(missing_values=np.nan, strategy='median')\n",
        "imp.fit(df15)\n",
        "df_filled_median15 = imp.transform(df15)\n",
        "df_filled_median15 = pd.DataFrame(df_filled_median15,columns=df15.columns.values)\n",
        "df_filled_median15.head(5)"
      ],
      "execution_count": 0,
      "outputs": [
        {
          "output_type": "execute_result",
          "data": {
            "text/html": [
              "<div>\n",
              "<style scoped>\n",
              "    .dataframe tbody tr th:only-of-type {\n",
              "        vertical-align: middle;\n",
              "    }\n",
              "\n",
              "    .dataframe tbody tr th {\n",
              "        vertical-align: top;\n",
              "    }\n",
              "\n",
              "    .dataframe thead th {\n",
              "        text-align: right;\n",
              "    }\n",
              "</style>\n",
              "<table border=\"1\" class=\"dataframe\">\n",
              "  <thead>\n",
              "    <tr style=\"text-align: right;\">\n",
              "      <th></th>\n",
              "      <th>TL BASED ISE</th>\n",
              "      <th>USD BASED ISE</th>\n",
              "      <th>SP</th>\n",
              "      <th>DAX</th>\n",
              "      <th>FTSE</th>\n",
              "      <th>NIKKEI</th>\n",
              "      <th>BOVESPA</th>\n",
              "      <th>EU</th>\n",
              "      <th>EM</th>\n",
              "    </tr>\n",
              "  </thead>\n",
              "  <tbody>\n",
              "    <tr>\n",
              "      <th>0</th>\n",
              "      <td>0.035754</td>\n",
              "      <td>0.038376</td>\n",
              "      <td>-0.004679</td>\n",
              "      <td>0.002193</td>\n",
              "      <td>0.003894</td>\n",
              "      <td>0.000000</td>\n",
              "      <td>0.031190</td>\n",
              "      <td>0.000464</td>\n",
              "      <td>0.028524</td>\n",
              "    </tr>\n",
              "    <tr>\n",
              "      <th>1</th>\n",
              "      <td>0.025426</td>\n",
              "      <td>0.002517</td>\n",
              "      <td>0.007787</td>\n",
              "      <td>0.001322</td>\n",
              "      <td>0.012866</td>\n",
              "      <td>0.000000</td>\n",
              "      <td>0.018920</td>\n",
              "      <td>0.011341</td>\n",
              "      <td>0.008773</td>\n",
              "    </tr>\n",
              "    <tr>\n",
              "      <th>2</th>\n",
              "      <td>-0.028862</td>\n",
              "      <td>0.002517</td>\n",
              "      <td>-0.030469</td>\n",
              "      <td>-0.017833</td>\n",
              "      <td>-0.028735</td>\n",
              "      <td>0.000000</td>\n",
              "      <td>0.000798</td>\n",
              "      <td>-0.017073</td>\n",
              "      <td>0.000968</td>\n",
              "    </tr>\n",
              "    <tr>\n",
              "      <th>3</th>\n",
              "      <td>-0.062208</td>\n",
              "      <td>-0.084716</td>\n",
              "      <td>0.003391</td>\n",
              "      <td>-0.011726</td>\n",
              "      <td>-0.000466</td>\n",
              "      <td>-0.040061</td>\n",
              "      <td>0.028283</td>\n",
              "      <td>0.000464</td>\n",
              "      <td>-0.019424</td>\n",
              "    </tr>\n",
              "    <tr>\n",
              "      <th>4</th>\n",
              "      <td>0.009860</td>\n",
              "      <td>0.009658</td>\n",
              "      <td>-0.021533</td>\n",
              "      <td>-0.019873</td>\n",
              "      <td>-0.012710</td>\n",
              "      <td>-0.004474</td>\n",
              "      <td>-0.009764</td>\n",
              "      <td>-0.010989</td>\n",
              "      <td>-0.007802</td>\n",
              "    </tr>\n",
              "  </tbody>\n",
              "</table>\n",
              "</div>"
            ],
            "text/plain": [
              "   TL BASED ISE  USD BASED ISE        SP  ...   BOVESPA        EU        EM\n",
              "0      0.035754       0.038376 -0.004679  ...  0.031190  0.000464  0.028524\n",
              "1      0.025426       0.002517  0.007787  ...  0.018920  0.011341  0.008773\n",
              "2     -0.028862       0.002517 -0.030469  ...  0.000798 -0.017073  0.000968\n",
              "3     -0.062208      -0.084716  0.003391  ...  0.028283  0.000464 -0.019424\n",
              "4      0.009860       0.009658 -0.021533  ... -0.009764 -0.010989 -0.007802\n",
              "\n",
              "[5 rows x 9 columns]"
            ]
          },
          "metadata": {
            "tags": []
          },
          "execution_count": 83
        }
      ]
    },
    {
      "cell_type": "markdown",
      "metadata": {
        "colab_type": "text",
        "id": "DE5d9v8Lo9yp"
      },
      "source": [
        "Imputing with KNN"
      ]
    },
    {
      "cell_type": "code",
      "metadata": {
        "colab_type": "code",
        "id": "qI_B5MBZo9yq",
        "colab": {}
      },
      "source": [
        "imputer = KNNImputer(n_neighbors=5)\n",
        "df_filled_KNN15 = imputer.fit_transform(df15)\n"
      ],
      "execution_count": 0,
      "outputs": []
    },
    {
      "cell_type": "code",
      "metadata": {
        "colab_type": "code",
        "id": "OJCWM1s_o9ys",
        "colab": {}
      },
      "source": [
        "df_filled_KNN15 = pd.DataFrame(df_filled_KNN15,columns=df15.columns.values)"
      ],
      "execution_count": 0,
      "outputs": []
    },
    {
      "cell_type": "code",
      "metadata": {
        "colab_type": "code",
        "outputId": "7a96e67d-17e9-4c00-ba68-41e3a31993ef",
        "id": "fUrVgSoFo9yu",
        "colab": {
          "base_uri": "https://localhost:8080/",
          "height": 204
        }
      },
      "source": [
        "df_filled_KNN15.head(5)"
      ],
      "execution_count": 0,
      "outputs": [
        {
          "output_type": "execute_result",
          "data": {
            "text/html": [
              "<div>\n",
              "<style scoped>\n",
              "    .dataframe tbody tr th:only-of-type {\n",
              "        vertical-align: middle;\n",
              "    }\n",
              "\n",
              "    .dataframe tbody tr th {\n",
              "        vertical-align: top;\n",
              "    }\n",
              "\n",
              "    .dataframe thead th {\n",
              "        text-align: right;\n",
              "    }\n",
              "</style>\n",
              "<table border=\"1\" class=\"dataframe\">\n",
              "  <thead>\n",
              "    <tr style=\"text-align: right;\">\n",
              "      <th></th>\n",
              "      <th>TL BASED ISE</th>\n",
              "      <th>USD BASED ISE</th>\n",
              "      <th>SP</th>\n",
              "      <th>DAX</th>\n",
              "      <th>FTSE</th>\n",
              "      <th>NIKKEI</th>\n",
              "      <th>BOVESPA</th>\n",
              "      <th>EU</th>\n",
              "      <th>EM</th>\n",
              "    </tr>\n",
              "  </thead>\n",
              "  <tbody>\n",
              "    <tr>\n",
              "      <th>0</th>\n",
              "      <td>0.035754</td>\n",
              "      <td>0.038376</td>\n",
              "      <td>-0.004679</td>\n",
              "      <td>0.002193</td>\n",
              "      <td>0.003894</td>\n",
              "      <td>0.000000</td>\n",
              "      <td>0.031190</td>\n",
              "      <td>0.009662</td>\n",
              "      <td>0.028524</td>\n",
              "    </tr>\n",
              "    <tr>\n",
              "      <th>1</th>\n",
              "      <td>0.025426</td>\n",
              "      <td>0.013844</td>\n",
              "      <td>0.007787</td>\n",
              "      <td>0.015197</td>\n",
              "      <td>0.012866</td>\n",
              "      <td>0.016628</td>\n",
              "      <td>0.018920</td>\n",
              "      <td>0.011341</td>\n",
              "      <td>0.008773</td>\n",
              "    </tr>\n",
              "    <tr>\n",
              "      <th>2</th>\n",
              "      <td>-0.028862</td>\n",
              "      <td>-0.021283</td>\n",
              "      <td>-0.030469</td>\n",
              "      <td>-0.017833</td>\n",
              "      <td>-0.028735</td>\n",
              "      <td>0.000345</td>\n",
              "      <td>-0.024745</td>\n",
              "      <td>-0.017073</td>\n",
              "      <td>-0.017724</td>\n",
              "    </tr>\n",
              "    <tr>\n",
              "      <th>3</th>\n",
              "      <td>-0.062208</td>\n",
              "      <td>-0.084716</td>\n",
              "      <td>0.003391</td>\n",
              "      <td>-0.011726</td>\n",
              "      <td>-0.000466</td>\n",
              "      <td>-0.040061</td>\n",
              "      <td>0.028283</td>\n",
              "      <td>-0.012801</td>\n",
              "      <td>-0.019424</td>\n",
              "    </tr>\n",
              "    <tr>\n",
              "      <th>4</th>\n",
              "      <td>0.009860</td>\n",
              "      <td>0.009658</td>\n",
              "      <td>-0.021533</td>\n",
              "      <td>-0.019873</td>\n",
              "      <td>-0.012710</td>\n",
              "      <td>-0.004474</td>\n",
              "      <td>-0.009764</td>\n",
              "      <td>-0.010989</td>\n",
              "      <td>-0.007802</td>\n",
              "    </tr>\n",
              "  </tbody>\n",
              "</table>\n",
              "</div>"
            ],
            "text/plain": [
              "   TL BASED ISE  USD BASED ISE        SP  ...   BOVESPA        EU        EM\n",
              "0      0.035754       0.038376 -0.004679  ...  0.031190  0.009662  0.028524\n",
              "1      0.025426       0.013844  0.007787  ...  0.018920  0.011341  0.008773\n",
              "2     -0.028862      -0.021283 -0.030469  ... -0.024745 -0.017073 -0.017724\n",
              "3     -0.062208      -0.084716  0.003391  ...  0.028283 -0.012801 -0.019424\n",
              "4      0.009860       0.009658 -0.021533  ... -0.009764 -0.010989 -0.007802\n",
              "\n",
              "[5 rows x 9 columns]"
            ]
          },
          "metadata": {
            "tags": []
          },
          "execution_count": 86
        }
      ]
    },
    {
      "cell_type": "markdown",
      "metadata": {
        "id": "mHIjCpAI-S6n",
        "colab_type": "text"
      },
      "source": [
        "# MSE Values\n",
        "\n",
        "---\n",
        "This section will calculate the Mean Square Error between each of the different imputed values at 5%, 10% and 15%\n"
      ]
    },
    {
      "cell_type": "markdown",
      "metadata": {
        "id": "nhRt4tWgqD85",
        "colab_type": "text"
      },
      "source": [
        "#### MSE for 5%"
      ]
    },
    {
      "cell_type": "markdown",
      "metadata": {
        "id": "78x6djUNqPeJ",
        "colab_type": "text"
      },
      "source": [
        "Mean"
      ]
    },
    {
      "cell_type": "code",
      "metadata": {
        "id": "4arZvlMv-VCj",
        "colab_type": "code",
        "outputId": "64f1f88b-0241-43e7-d63c-8f1821dd37ec",
        "colab": {
          "base_uri": "https://localhost:8080/",
          "height": 34
        }
      },
      "source": [
        "mean_squared_error(stock_df,df_filled_mean5)"
      ],
      "execution_count": 0,
      "outputs": [
        {
          "output_type": "execute_result",
          "data": {
            "text/plain": [
              "9.391592652963941e-06"
            ]
          },
          "metadata": {
            "tags": []
          },
          "execution_count": 87
        }
      ]
    },
    {
      "cell_type": "markdown",
      "metadata": {
        "id": "TXbh2ho8qS9a",
        "colab_type": "text"
      },
      "source": [
        "Median"
      ]
    },
    {
      "cell_type": "code",
      "metadata": {
        "id": "GF1fiZS_qSut",
        "colab_type": "code",
        "outputId": "7cf82f1f-7b9f-4369-97d0-86eaf5fdfbb0",
        "colab": {
          "base_uri": "https://localhost:8080/",
          "height": 34
        }
      },
      "source": [
        "mean_squared_error(stock_df,df_filled_median5)"
      ],
      "execution_count": 0,
      "outputs": [
        {
          "output_type": "execute_result",
          "data": {
            "text/plain": [
              "9.419210020116069e-06"
            ]
          },
          "metadata": {
            "tags": []
          },
          "execution_count": 88
        }
      ]
    },
    {
      "cell_type": "markdown",
      "metadata": {
        "id": "O3tUr9GrqU7M",
        "colab_type": "text"
      },
      "source": [
        "KNN"
      ]
    },
    {
      "cell_type": "code",
      "metadata": {
        "id": "jAtusInHqUuN",
        "colab_type": "code",
        "outputId": "e362bdcb-82d6-4edf-b298-fc160e4aac73",
        "colab": {
          "base_uri": "https://localhost:8080/",
          "height": 34
        }
      },
      "source": [
        "mean_squared_error(stock_df,df_filled_KNN5)"
      ],
      "execution_count": 0,
      "outputs": [
        {
          "output_type": "execute_result",
          "data": {
            "text/plain": [
              "3.6572457366048012e-06"
            ]
          },
          "metadata": {
            "tags": []
          },
          "execution_count": 89
        }
      ]
    },
    {
      "cell_type": "markdown",
      "metadata": {
        "colab_type": "text",
        "id": "OuOcAfC0qJiq"
      },
      "source": [
        "#### MSE for 10%"
      ]
    },
    {
      "cell_type": "markdown",
      "metadata": {
        "colab_type": "text",
        "id": "tTWANAzYqXhn"
      },
      "source": [
        "Mean"
      ]
    },
    {
      "cell_type": "code",
      "metadata": {
        "colab_type": "code",
        "id": "L9zA4a_rqXhp",
        "outputId": "c7e42ab2-bf0b-473f-ef37-6d68c74e716b",
        "colab": {
          "base_uri": "https://localhost:8080/",
          "height": 34
        }
      },
      "source": [
        "mean_squared_error(stock_df,df_filled_mean10)"
      ],
      "execution_count": 0,
      "outputs": [
        {
          "output_type": "execute_result",
          "data": {
            "text/plain": [
              "2.5908612644452107e-05"
            ]
          },
          "metadata": {
            "tags": []
          },
          "execution_count": 90
        }
      ]
    },
    {
      "cell_type": "markdown",
      "metadata": {
        "colab_type": "text",
        "id": "zZx3UuySqXhr"
      },
      "source": [
        "Median"
      ]
    },
    {
      "cell_type": "code",
      "metadata": {
        "colab_type": "code",
        "id": "ZxL9jaNWqXhs",
        "outputId": "ab47f5cf-3826-4f74-f712-28883b06ca40",
        "colab": {
          "base_uri": "https://localhost:8080/",
          "height": 34
        }
      },
      "source": [
        "mean_squared_error(stock_df,df_filled_median10)"
      ],
      "execution_count": 0,
      "outputs": [
        {
          "output_type": "execute_result",
          "data": {
            "text/plain": [
              "2.5660488249243253e-05"
            ]
          },
          "metadata": {
            "tags": []
          },
          "execution_count": 91
        }
      ]
    },
    {
      "cell_type": "markdown",
      "metadata": {
        "colab_type": "text",
        "id": "ONr7OWK2qXhu"
      },
      "source": [
        "KNN"
      ]
    },
    {
      "cell_type": "code",
      "metadata": {
        "colab_type": "code",
        "id": "buUgz_-LqXhu",
        "outputId": "a1c3b7f3-0df2-44f4-bcd7-1a987ff7c0e3",
        "colab": {
          "base_uri": "https://localhost:8080/",
          "height": 34
        }
      },
      "source": [
        "mean_squared_error(stock_df,df_filled_KNN10)"
      ],
      "execution_count": 0,
      "outputs": [
        {
          "output_type": "execute_result",
          "data": {
            "text/plain": [
              "8.415567069937365e-06"
            ]
          },
          "metadata": {
            "tags": []
          },
          "execution_count": 92
        }
      ]
    },
    {
      "cell_type": "markdown",
      "metadata": {
        "colab_type": "text",
        "id": "LrkGIieTqJon"
      },
      "source": [
        "#### MSE for 15%"
      ]
    },
    {
      "cell_type": "markdown",
      "metadata": {
        "colab_type": "text",
        "id": "MTYbtXY1qYUW"
      },
      "source": [
        "Mean"
      ]
    },
    {
      "cell_type": "code",
      "metadata": {
        "colab_type": "code",
        "id": "GTy-3ktzqYUY",
        "outputId": "48a9f293-47a9-4c7b-868c-336d79b5d9f6",
        "colab": {
          "base_uri": "https://localhost:8080/",
          "height": 34
        }
      },
      "source": [
        "mean_squared_error(stock_df,df_filled_mean15)"
      ],
      "execution_count": 0,
      "outputs": [
        {
          "output_type": "execute_result",
          "data": {
            "text/plain": [
              "2.9919866287995483e-05"
            ]
          },
          "metadata": {
            "tags": []
          },
          "execution_count": 93
        }
      ]
    },
    {
      "cell_type": "markdown",
      "metadata": {
        "colab_type": "text",
        "id": "LgW-uEBxqYUa"
      },
      "source": [
        "Median"
      ]
    },
    {
      "cell_type": "code",
      "metadata": {
        "colab_type": "code",
        "id": "QQWdMOkFqYUa",
        "outputId": "2c77c890-f8e5-4969-f8b6-7d7808891c3f",
        "colab": {
          "base_uri": "https://localhost:8080/",
          "height": 34
        }
      },
      "source": [
        "mean_squared_error(stock_df,df_filled_median15)"
      ],
      "execution_count": 0,
      "outputs": [
        {
          "output_type": "execute_result",
          "data": {
            "text/plain": [
              "2.9783882652909058e-05"
            ]
          },
          "metadata": {
            "tags": []
          },
          "execution_count": 94
        }
      ]
    },
    {
      "cell_type": "markdown",
      "metadata": {
        "colab_type": "text",
        "id": "f9dteCNoqYUc"
      },
      "source": [
        "KNN"
      ]
    },
    {
      "cell_type": "code",
      "metadata": {
        "colab_type": "code",
        "id": "n0MGrAaJqYUc",
        "outputId": "7369d2e0-ec51-4ea3-84ff-e5cc5a884e67",
        "colab": {
          "base_uri": "https://localhost:8080/",
          "height": 34
        }
      },
      "source": [
        "mean_squared_error(stock_df,df_filled_KNN15)"
      ],
      "execution_count": 0,
      "outputs": [
        {
          "output_type": "execute_result",
          "data": {
            "text/plain": [
              "1.3895105721290314e-05"
            ]
          },
          "metadata": {
            "tags": []
          },
          "execution_count": 95
        }
      ]
    }
  ]
}